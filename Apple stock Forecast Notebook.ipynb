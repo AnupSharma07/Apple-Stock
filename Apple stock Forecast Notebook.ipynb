{
 "cells": [
  {
   "cell_type": "code",
   "execution_count": 2,
   "id": "1ebb7aee",
   "metadata": {},
   "outputs": [
    {
     "name": "stdout",
     "output_type": "stream",
     "text": [
      "Collecting pyforestNote: you may need to restart the kernel to use updated packages.\n",
      "  Downloading pyforest-1.1.0.tar.gz (15 kB)\n",
      "Building wheels for collected packages: pyforest\n",
      "  Building wheel for pyforest (setup.py): started\n",
      "  Building wheel for pyforest (setup.py): finished with status 'done'\n",
      "  Created wheel for pyforest: filename=pyforest-1.1.0-py2.py3-none-any.whl size=14606 sha256=a5bd0c0c3846c80ed6ae4e15e9b4f53507022fd98acd7af3e0aea9604519c00a\n",
      "  Stored in directory: c:\\users\\anup sharma\\appdata\\local\\pip\\cache\\wheels\\d5\\1a\\3e\\6193fe1c56168f5df4aef57d8411033ba4611881135d495727\n",
      "Successfully built pyforest\n",
      "Installing collected packages: pyforest\n",
      "Successfully installed pyforest-1.1.0\n",
      "\n"
     ]
    }
   ],
   "source": [
    "pip install pyforest"
   ]
  },
  {
   "cell_type": "code",
   "execution_count": 3,
   "id": "10e1a959",
   "metadata": {},
   "outputs": [],
   "source": [
    "## All basic imports \n",
    "import pyforest "
   ]
  },
  {
   "cell_type": "code",
   "execution_count": 4,
   "id": "00c886ba",
   "metadata": {},
   "outputs": [],
   "source": [
    "## ignore warnings\n",
    "import warnings\n",
    "warnings.filterwarnings('ignore')"
   ]
  },
  {
   "cell_type": "code",
   "execution_count": 5,
   "id": "7f024581",
   "metadata": {},
   "outputs": [
    {
     "data": {
      "application/javascript": [
       "\n",
       "        if (window._pyforest_update_imports_cell) { window._pyforest_update_imports_cell('import pandas as pd'); }\n",
       "    "
      ],
      "text/plain": [
       "<IPython.core.display.Javascript object>"
      ]
     },
     "metadata": {},
     "output_type": "display_data"
    }
   ],
   "source": [
    "## reading the data \n",
    "data = pd.read_csv(\"AAPL.csv\")"
   ]
  },
  {
   "cell_type": "code",
   "execution_count": 8,
   "id": "1e84dae6",
   "metadata": {},
   "outputs": [
    {
     "data": {
      "text/html": [
       "<div>\n",
       "<style scoped>\n",
       "    .dataframe tbody tr th:only-of-type {\n",
       "        vertical-align: middle;\n",
       "    }\n",
       "\n",
       "    .dataframe tbody tr th {\n",
       "        vertical-align: top;\n",
       "    }\n",
       "\n",
       "    .dataframe thead th {\n",
       "        text-align: right;\n",
       "    }\n",
       "</style>\n",
       "<table border=\"1\" class=\"dataframe\">\n",
       "  <thead>\n",
       "    <tr style=\"text-align: right;\">\n",
       "      <th></th>\n",
       "      <th>Date</th>\n",
       "      <th>Open</th>\n",
       "      <th>High</th>\n",
       "      <th>Low</th>\n",
       "      <th>Close</th>\n",
       "      <th>Adj Close</th>\n",
       "      <th>Volume</th>\n",
       "    </tr>\n",
       "  </thead>\n",
       "  <tbody>\n",
       "    <tr>\n",
       "      <th>0</th>\n",
       "      <td>03-01-2012</td>\n",
       "      <td>58.485714</td>\n",
       "      <td>58.928570</td>\n",
       "      <td>58.428570</td>\n",
       "      <td>58.747143</td>\n",
       "      <td>50.765709</td>\n",
       "      <td>75555200</td>\n",
       "    </tr>\n",
       "    <tr>\n",
       "      <th>1</th>\n",
       "      <td>04-01-2012</td>\n",
       "      <td>58.571430</td>\n",
       "      <td>59.240002</td>\n",
       "      <td>58.468571</td>\n",
       "      <td>59.062859</td>\n",
       "      <td>51.038536</td>\n",
       "      <td>65005500</td>\n",
       "    </tr>\n",
       "    <tr>\n",
       "      <th>2</th>\n",
       "      <td>05-01-2012</td>\n",
       "      <td>59.278572</td>\n",
       "      <td>59.792858</td>\n",
       "      <td>58.952858</td>\n",
       "      <td>59.718571</td>\n",
       "      <td>51.605175</td>\n",
       "      <td>67817400</td>\n",
       "    </tr>\n",
       "    <tr>\n",
       "      <th>3</th>\n",
       "      <td>06-01-2012</td>\n",
       "      <td>59.967144</td>\n",
       "      <td>60.392857</td>\n",
       "      <td>59.888573</td>\n",
       "      <td>60.342857</td>\n",
       "      <td>52.144630</td>\n",
       "      <td>79573200</td>\n",
       "    </tr>\n",
       "    <tr>\n",
       "      <th>4</th>\n",
       "      <td>09-01-2012</td>\n",
       "      <td>60.785713</td>\n",
       "      <td>61.107143</td>\n",
       "      <td>60.192856</td>\n",
       "      <td>60.247143</td>\n",
       "      <td>52.061932</td>\n",
       "      <td>98506100</td>\n",
       "    </tr>\n",
       "  </tbody>\n",
       "</table>\n",
       "</div>"
      ],
      "text/plain": [
       "         Date       Open       High        Low      Close  Adj Close    Volume\n",
       "0  03-01-2012  58.485714  58.928570  58.428570  58.747143  50.765709  75555200\n",
       "1  04-01-2012  58.571430  59.240002  58.468571  59.062859  51.038536  65005500\n",
       "2  05-01-2012  59.278572  59.792858  58.952858  59.718571  51.605175  67817400\n",
       "3  06-01-2012  59.967144  60.392857  59.888573  60.342857  52.144630  79573200\n",
       "4  09-01-2012  60.785713  61.107143  60.192856  60.247143  52.061932  98506100"
      ]
     },
     "execution_count": 8,
     "metadata": {},
     "output_type": "execute_result"
    }
   ],
   "source": [
    "data.head()"
   ]
  },
  {
   "cell_type": "code",
   "execution_count": 9,
   "id": "4b442a42",
   "metadata": {},
   "outputs": [
    {
     "name": "stdout",
     "output_type": "stream",
     "text": [
      "<class 'pandas.core.frame.DataFrame'>\n",
      "RangeIndex: 2011 entries, 0 to 2010\n",
      "Data columns (total 7 columns):\n",
      " #   Column     Non-Null Count  Dtype  \n",
      "---  ------     --------------  -----  \n",
      " 0   Date       2011 non-null   object \n",
      " 1   Open       2011 non-null   float64\n",
      " 2   High       2011 non-null   float64\n",
      " 3   Low        2011 non-null   float64\n",
      " 4   Close      2011 non-null   float64\n",
      " 5   Adj Close  2011 non-null   float64\n",
      " 6   Volume     2011 non-null   int64  \n",
      "dtypes: float64(5), int64(1), object(1)\n",
      "memory usage: 110.1+ KB\n"
     ]
    }
   ],
   "source": [
    "## lite exploration \n",
    "data.info()"
   ]
  },
  {
   "cell_type": "code",
   "execution_count": 10,
   "id": "ccf4f46b",
   "metadata": {},
   "outputs": [
    {
     "data": {
      "application/javascript": [
       "\n",
       "        if (window._pyforest_update_imports_cell) { window._pyforest_update_imports_cell('import pandas as pd'); }\n",
       "    "
      ],
      "text/plain": [
       "<IPython.core.display.Javascript object>"
      ]
     },
     "metadata": {},
     "output_type": "display_data"
    }
   ],
   "source": [
    "data['Date'] = pd.to_datetime(data['Date'], format=\"%d-%m-%Y\")"
   ]
  },
  {
   "cell_type": "code",
   "execution_count": 11,
   "id": "c348fa65",
   "metadata": {},
   "outputs": [
    {
     "data": {
      "text/html": [
       "<div>\n",
       "<style scoped>\n",
       "    .dataframe tbody tr th:only-of-type {\n",
       "        vertical-align: middle;\n",
       "    }\n",
       "\n",
       "    .dataframe tbody tr th {\n",
       "        vertical-align: top;\n",
       "    }\n",
       "\n",
       "    .dataframe thead th {\n",
       "        text-align: right;\n",
       "    }\n",
       "</style>\n",
       "<table border=\"1\" class=\"dataframe\">\n",
       "  <thead>\n",
       "    <tr style=\"text-align: right;\">\n",
       "      <th></th>\n",
       "      <th>Date</th>\n",
       "      <th>Open</th>\n",
       "      <th>High</th>\n",
       "      <th>Low</th>\n",
       "      <th>Close</th>\n",
       "      <th>Adj Close</th>\n",
       "      <th>Volume</th>\n",
       "    </tr>\n",
       "  </thead>\n",
       "  <tbody>\n",
       "    <tr>\n",
       "      <th>0</th>\n",
       "      <td>2012-01-03</td>\n",
       "      <td>58.485714</td>\n",
       "      <td>58.928570</td>\n",
       "      <td>58.428570</td>\n",
       "      <td>58.747143</td>\n",
       "      <td>50.765709</td>\n",
       "      <td>75555200</td>\n",
       "    </tr>\n",
       "    <tr>\n",
       "      <th>1</th>\n",
       "      <td>2012-01-04</td>\n",
       "      <td>58.571430</td>\n",
       "      <td>59.240002</td>\n",
       "      <td>58.468571</td>\n",
       "      <td>59.062859</td>\n",
       "      <td>51.038536</td>\n",
       "      <td>65005500</td>\n",
       "    </tr>\n",
       "    <tr>\n",
       "      <th>2</th>\n",
       "      <td>2012-01-05</td>\n",
       "      <td>59.278572</td>\n",
       "      <td>59.792858</td>\n",
       "      <td>58.952858</td>\n",
       "      <td>59.718571</td>\n",
       "      <td>51.605175</td>\n",
       "      <td>67817400</td>\n",
       "    </tr>\n",
       "    <tr>\n",
       "      <th>3</th>\n",
       "      <td>2012-01-06</td>\n",
       "      <td>59.967144</td>\n",
       "      <td>60.392857</td>\n",
       "      <td>59.888573</td>\n",
       "      <td>60.342857</td>\n",
       "      <td>52.144630</td>\n",
       "      <td>79573200</td>\n",
       "    </tr>\n",
       "    <tr>\n",
       "      <th>4</th>\n",
       "      <td>2012-01-09</td>\n",
       "      <td>60.785713</td>\n",
       "      <td>61.107143</td>\n",
       "      <td>60.192856</td>\n",
       "      <td>60.247143</td>\n",
       "      <td>52.061932</td>\n",
       "      <td>98506100</td>\n",
       "    </tr>\n",
       "    <tr>\n",
       "      <th>...</th>\n",
       "      <td>...</td>\n",
       "      <td>...</td>\n",
       "      <td>...</td>\n",
       "      <td>...</td>\n",
       "      <td>...</td>\n",
       "      <td>...</td>\n",
       "      <td>...</td>\n",
       "    </tr>\n",
       "    <tr>\n",
       "      <th>2006</th>\n",
       "      <td>2019-12-23</td>\n",
       "      <td>280.529999</td>\n",
       "      <td>284.250000</td>\n",
       "      <td>280.369995</td>\n",
       "      <td>284.000000</td>\n",
       "      <td>282.054138</td>\n",
       "      <td>24643000</td>\n",
       "    </tr>\n",
       "    <tr>\n",
       "      <th>2007</th>\n",
       "      <td>2019-12-24</td>\n",
       "      <td>284.690002</td>\n",
       "      <td>284.890015</td>\n",
       "      <td>282.920013</td>\n",
       "      <td>284.269989</td>\n",
       "      <td>282.322266</td>\n",
       "      <td>12119700</td>\n",
       "    </tr>\n",
       "    <tr>\n",
       "      <th>2008</th>\n",
       "      <td>2019-12-26</td>\n",
       "      <td>284.820007</td>\n",
       "      <td>289.980011</td>\n",
       "      <td>284.700012</td>\n",
       "      <td>289.910004</td>\n",
       "      <td>287.923645</td>\n",
       "      <td>23280300</td>\n",
       "    </tr>\n",
       "    <tr>\n",
       "      <th>2009</th>\n",
       "      <td>2019-12-27</td>\n",
       "      <td>291.119995</td>\n",
       "      <td>293.970001</td>\n",
       "      <td>288.119995</td>\n",
       "      <td>289.799988</td>\n",
       "      <td>287.814392</td>\n",
       "      <td>36566500</td>\n",
       "    </tr>\n",
       "    <tr>\n",
       "      <th>2010</th>\n",
       "      <td>2019-12-30</td>\n",
       "      <td>289.459991</td>\n",
       "      <td>292.690002</td>\n",
       "      <td>285.220001</td>\n",
       "      <td>291.519989</td>\n",
       "      <td>289.522614</td>\n",
       "      <td>36028600</td>\n",
       "    </tr>\n",
       "  </tbody>\n",
       "</table>\n",
       "<p>2011 rows × 7 columns</p>\n",
       "</div>"
      ],
      "text/plain": [
       "           Date        Open        High         Low       Close   Adj Close  \\\n",
       "0    2012-01-03   58.485714   58.928570   58.428570   58.747143   50.765709   \n",
       "1    2012-01-04   58.571430   59.240002   58.468571   59.062859   51.038536   \n",
       "2    2012-01-05   59.278572   59.792858   58.952858   59.718571   51.605175   \n",
       "3    2012-01-06   59.967144   60.392857   59.888573   60.342857   52.144630   \n",
       "4    2012-01-09   60.785713   61.107143   60.192856   60.247143   52.061932   \n",
       "...         ...         ...         ...         ...         ...         ...   \n",
       "2006 2019-12-23  280.529999  284.250000  280.369995  284.000000  282.054138   \n",
       "2007 2019-12-24  284.690002  284.890015  282.920013  284.269989  282.322266   \n",
       "2008 2019-12-26  284.820007  289.980011  284.700012  289.910004  287.923645   \n",
       "2009 2019-12-27  291.119995  293.970001  288.119995  289.799988  287.814392   \n",
       "2010 2019-12-30  289.459991  292.690002  285.220001  291.519989  289.522614   \n",
       "\n",
       "        Volume  \n",
       "0     75555200  \n",
       "1     65005500  \n",
       "2     67817400  \n",
       "3     79573200  \n",
       "4     98506100  \n",
       "...        ...  \n",
       "2006  24643000  \n",
       "2007  12119700  \n",
       "2008  23280300  \n",
       "2009  36566500  \n",
       "2010  36028600  \n",
       "\n",
       "[2011 rows x 7 columns]"
      ]
     },
     "execution_count": 11,
     "metadata": {},
     "output_type": "execute_result"
    }
   ],
   "source": [
    "data"
   ]
  },
  {
   "cell_type": "code",
   "execution_count": 12,
   "id": "cf3dfe5e",
   "metadata": {},
   "outputs": [],
   "source": [
    "data= data.set_index('Date')\n"
   ]
  },
  {
   "cell_type": "code",
   "execution_count": 13,
   "id": "142afbd0",
   "metadata": {
    "scrolled": true
   },
   "outputs": [
    {
     "data": {
      "text/html": [
       "<div>\n",
       "<style scoped>\n",
       "    .dataframe tbody tr th:only-of-type {\n",
       "        vertical-align: middle;\n",
       "    }\n",
       "\n",
       "    .dataframe tbody tr th {\n",
       "        vertical-align: top;\n",
       "    }\n",
       "\n",
       "    .dataframe thead th {\n",
       "        text-align: right;\n",
       "    }\n",
       "</style>\n",
       "<table border=\"1\" class=\"dataframe\">\n",
       "  <thead>\n",
       "    <tr style=\"text-align: right;\">\n",
       "      <th></th>\n",
       "      <th>Open</th>\n",
       "      <th>High</th>\n",
       "      <th>Low</th>\n",
       "      <th>Close</th>\n",
       "      <th>Adj Close</th>\n",
       "      <th>Volume</th>\n",
       "    </tr>\n",
       "    <tr>\n",
       "      <th>Date</th>\n",
       "      <th></th>\n",
       "      <th></th>\n",
       "      <th></th>\n",
       "      <th></th>\n",
       "      <th></th>\n",
       "      <th></th>\n",
       "    </tr>\n",
       "  </thead>\n",
       "  <tbody>\n",
       "    <tr>\n",
       "      <th>2012-01-03</th>\n",
       "      <td>58.485714</td>\n",
       "      <td>58.928570</td>\n",
       "      <td>58.428570</td>\n",
       "      <td>58.747143</td>\n",
       "      <td>50.765709</td>\n",
       "      <td>75555200</td>\n",
       "    </tr>\n",
       "    <tr>\n",
       "      <th>2012-01-04</th>\n",
       "      <td>58.571430</td>\n",
       "      <td>59.240002</td>\n",
       "      <td>58.468571</td>\n",
       "      <td>59.062859</td>\n",
       "      <td>51.038536</td>\n",
       "      <td>65005500</td>\n",
       "    </tr>\n",
       "    <tr>\n",
       "      <th>2012-01-05</th>\n",
       "      <td>59.278572</td>\n",
       "      <td>59.792858</td>\n",
       "      <td>58.952858</td>\n",
       "      <td>59.718571</td>\n",
       "      <td>51.605175</td>\n",
       "      <td>67817400</td>\n",
       "    </tr>\n",
       "    <tr>\n",
       "      <th>2012-01-06</th>\n",
       "      <td>59.967144</td>\n",
       "      <td>60.392857</td>\n",
       "      <td>59.888573</td>\n",
       "      <td>60.342857</td>\n",
       "      <td>52.144630</td>\n",
       "      <td>79573200</td>\n",
       "    </tr>\n",
       "    <tr>\n",
       "      <th>2012-01-09</th>\n",
       "      <td>60.785713</td>\n",
       "      <td>61.107143</td>\n",
       "      <td>60.192856</td>\n",
       "      <td>60.247143</td>\n",
       "      <td>52.061932</td>\n",
       "      <td>98506100</td>\n",
       "    </tr>\n",
       "    <tr>\n",
       "      <th>...</th>\n",
       "      <td>...</td>\n",
       "      <td>...</td>\n",
       "      <td>...</td>\n",
       "      <td>...</td>\n",
       "      <td>...</td>\n",
       "      <td>...</td>\n",
       "    </tr>\n",
       "    <tr>\n",
       "      <th>2019-12-23</th>\n",
       "      <td>280.529999</td>\n",
       "      <td>284.250000</td>\n",
       "      <td>280.369995</td>\n",
       "      <td>284.000000</td>\n",
       "      <td>282.054138</td>\n",
       "      <td>24643000</td>\n",
       "    </tr>\n",
       "    <tr>\n",
       "      <th>2019-12-24</th>\n",
       "      <td>284.690002</td>\n",
       "      <td>284.890015</td>\n",
       "      <td>282.920013</td>\n",
       "      <td>284.269989</td>\n",
       "      <td>282.322266</td>\n",
       "      <td>12119700</td>\n",
       "    </tr>\n",
       "    <tr>\n",
       "      <th>2019-12-26</th>\n",
       "      <td>284.820007</td>\n",
       "      <td>289.980011</td>\n",
       "      <td>284.700012</td>\n",
       "      <td>289.910004</td>\n",
       "      <td>287.923645</td>\n",
       "      <td>23280300</td>\n",
       "    </tr>\n",
       "    <tr>\n",
       "      <th>2019-12-27</th>\n",
       "      <td>291.119995</td>\n",
       "      <td>293.970001</td>\n",
       "      <td>288.119995</td>\n",
       "      <td>289.799988</td>\n",
       "      <td>287.814392</td>\n",
       "      <td>36566500</td>\n",
       "    </tr>\n",
       "    <tr>\n",
       "      <th>2019-12-30</th>\n",
       "      <td>289.459991</td>\n",
       "      <td>292.690002</td>\n",
       "      <td>285.220001</td>\n",
       "      <td>291.519989</td>\n",
       "      <td>289.522614</td>\n",
       "      <td>36028600</td>\n",
       "    </tr>\n",
       "  </tbody>\n",
       "</table>\n",
       "<p>2011 rows × 6 columns</p>\n",
       "</div>"
      ],
      "text/plain": [
       "                  Open        High         Low       Close   Adj Close  \\\n",
       "Date                                                                     \n",
       "2012-01-03   58.485714   58.928570   58.428570   58.747143   50.765709   \n",
       "2012-01-04   58.571430   59.240002   58.468571   59.062859   51.038536   \n",
       "2012-01-05   59.278572   59.792858   58.952858   59.718571   51.605175   \n",
       "2012-01-06   59.967144   60.392857   59.888573   60.342857   52.144630   \n",
       "2012-01-09   60.785713   61.107143   60.192856   60.247143   52.061932   \n",
       "...                ...         ...         ...         ...         ...   \n",
       "2019-12-23  280.529999  284.250000  280.369995  284.000000  282.054138   \n",
       "2019-12-24  284.690002  284.890015  282.920013  284.269989  282.322266   \n",
       "2019-12-26  284.820007  289.980011  284.700012  289.910004  287.923645   \n",
       "2019-12-27  291.119995  293.970001  288.119995  289.799988  287.814392   \n",
       "2019-12-30  289.459991  292.690002  285.220001  291.519989  289.522614   \n",
       "\n",
       "              Volume  \n",
       "Date                  \n",
       "2012-01-03  75555200  \n",
       "2012-01-04  65005500  \n",
       "2012-01-05  67817400  \n",
       "2012-01-06  79573200  \n",
       "2012-01-09  98506100  \n",
       "...              ...  \n",
       "2019-12-23  24643000  \n",
       "2019-12-24  12119700  \n",
       "2019-12-26  23280300  \n",
       "2019-12-27  36566500  \n",
       "2019-12-30  36028600  \n",
       "\n",
       "[2011 rows x 6 columns]"
      ]
     },
     "execution_count": 13,
     "metadata": {},
     "output_type": "execute_result"
    }
   ],
   "source": [
    "data"
   ]
  },
  {
   "cell_type": "markdown",
   "id": "01890824",
   "metadata": {},
   "source": [
    "### The dataset consists of the apple stocks from Jan 2012 to Dec 2019. Let us take a look at what each column means"
   ]
  },
  {
   "cell_type": "markdown",
   "id": "8d16934e",
   "metadata": {},
   "source": [
    "### 1. Date:\n",
    "Stock Market is open for 5 days, from Monday to Friday. It remains closed on the weekend and public holidays. So the data that we have only comprises of the days when the stock market was open."
   ]
  },
  {
   "cell_type": "markdown",
   "id": "642bf371",
   "metadata": {},
   "source": [
    "### 2. Open:\n",
    "It gives the apple stock price when the day has just began i.e. when the market has just opened. The Market opens at 9:15 in India."
   ]
  },
  {
   "cell_type": "markdown",
   "id": "335d234e",
   "metadata": {},
   "source": [
    "### 3. High:\n",
    "It gives the apple stock price when it is at its highest. Stock prices are volatile and vary throughout the day."
   ]
  },
  {
   "cell_type": "markdown",
   "id": "f8ecd9f6",
   "metadata": {},
   "source": [
    "### 4. Close:\n",
    "It gives the apple stock price when the day is over i.e. when the market is closing. The Market closes at 3:30 in India."
   ]
  },
  {
   "cell_type": "markdown",
   "id": "ab237326",
   "metadata": {},
   "source": [
    "### 5. Low:\n",
    "It gives the apple stock price when it is at its lowest. Stock prices are volatile and vary throughout the day."
   ]
  },
  {
   "cell_type": "markdown",
   "id": "e73f2ece",
   "metadata": {},
   "source": [
    "### 6. Adjusted Close:\n",
    "Adjusted close is the closing price after adjustments for all applicable splits and dividend distributions."
   ]
  },
  {
   "cell_type": "markdown",
   "id": "c1e34900",
   "metadata": {},
   "source": [
    "### 7. Volume:\n",
    "Volume is an indicator that means the total number of shares that have been bought or sold in a specific period of time or during the trading day."
   ]
  },
  {
   "cell_type": "code",
   "execution_count": 14,
   "id": "9f0625df",
   "metadata": {
    "scrolled": true
   },
   "outputs": [
    {
     "name": "stdout",
     "output_type": "stream",
     "text": [
      "<class 'pandas.core.frame.DataFrame'>\n",
      "DatetimeIndex: 2011 entries, 2012-01-03 to 2019-12-30\n",
      "Data columns (total 6 columns):\n",
      " #   Column     Non-Null Count  Dtype  \n",
      "---  ------     --------------  -----  \n",
      " 0   Open       2011 non-null   float64\n",
      " 1   High       2011 non-null   float64\n",
      " 2   Low        2011 non-null   float64\n",
      " 3   Close      2011 non-null   float64\n",
      " 4   Adj Close  2011 non-null   float64\n",
      " 5   Volume     2011 non-null   int64  \n",
      "dtypes: float64(5), int64(1)\n",
      "memory usage: 110.0 KB\n"
     ]
    }
   ],
   "source": [
    "data.info()"
   ]
  },
  {
   "cell_type": "code",
   "execution_count": 15,
   "id": "e77e6e5f",
   "metadata": {
    "scrolled": false
   },
   "outputs": [
    {
     "data": {
      "text/html": [
       "<div>\n",
       "<style scoped>\n",
       "    .dataframe tbody tr th:only-of-type {\n",
       "        vertical-align: middle;\n",
       "    }\n",
       "\n",
       "    .dataframe tbody tr th {\n",
       "        vertical-align: top;\n",
       "    }\n",
       "\n",
       "    .dataframe thead th {\n",
       "        text-align: right;\n",
       "    }\n",
       "</style>\n",
       "<table border=\"1\" class=\"dataframe\">\n",
       "  <thead>\n",
       "    <tr style=\"text-align: right;\">\n",
       "      <th></th>\n",
       "      <th>count</th>\n",
       "      <th>mean</th>\n",
       "      <th>std</th>\n",
       "      <th>min</th>\n",
       "      <th>25%</th>\n",
       "      <th>50%</th>\n",
       "      <th>75%</th>\n",
       "      <th>max</th>\n",
       "    </tr>\n",
       "  </thead>\n",
       "  <tbody>\n",
       "    <tr>\n",
       "      <th>Open</th>\n",
       "      <td>2011.0</td>\n",
       "      <td>1.267075e+02</td>\n",
       "      <td>5.048375e+01</td>\n",
       "      <td>5.542429e+01</td>\n",
       "      <td>8.588286e+01</td>\n",
       "      <td>1.130500e+02</td>\n",
       "      <td>1.651900e+02</td>\n",
       "      <td>2.911200e+02</td>\n",
       "    </tr>\n",
       "    <tr>\n",
       "      <th>High</th>\n",
       "      <td>2011.0</td>\n",
       "      <td>1.278276e+02</td>\n",
       "      <td>5.092630e+01</td>\n",
       "      <td>5.708571e+01</td>\n",
       "      <td>8.671786e+01</td>\n",
       "      <td>1.141900e+02</td>\n",
       "      <td>1.674100e+02</td>\n",
       "      <td>2.939700e+02</td>\n",
       "    </tr>\n",
       "    <tr>\n",
       "      <th>Low</th>\n",
       "      <td>2011.0</td>\n",
       "      <td>1.255803e+02</td>\n",
       "      <td>5.012494e+01</td>\n",
       "      <td>5.501429e+01</td>\n",
       "      <td>8.505643e+01</td>\n",
       "      <td>1.118700e+02</td>\n",
       "      <td>1.634250e+02</td>\n",
       "      <td>2.881200e+02</td>\n",
       "    </tr>\n",
       "    <tr>\n",
       "      <th>Close</th>\n",
       "      <td>2011.0</td>\n",
       "      <td>1.267412e+02</td>\n",
       "      <td>5.057837e+01</td>\n",
       "      <td>5.579000e+01</td>\n",
       "      <td>8.620214e+01</td>\n",
       "      <td>1.130500e+02</td>\n",
       "      <td>1.652450e+02</td>\n",
       "      <td>2.915200e+02</td>\n",
       "    </tr>\n",
       "    <tr>\n",
       "      <th>Adj Close</th>\n",
       "      <td>2011.0</td>\n",
       "      <td>1.195055e+02</td>\n",
       "      <td>5.243844e+01</td>\n",
       "      <td>4.892193e+01</td>\n",
       "      <td>7.505668e+01</td>\n",
       "      <td>1.052229e+02</td>\n",
       "      <td>1.600471e+02</td>\n",
       "      <td>2.895226e+02</td>\n",
       "    </tr>\n",
       "    <tr>\n",
       "      <th>Volume</th>\n",
       "      <td>2011.0</td>\n",
       "      <td>5.949670e+07</td>\n",
       "      <td>4.683856e+07</td>\n",
       "      <td>1.136200e+07</td>\n",
       "      <td>2.758565e+07</td>\n",
       "      <td>4.346900e+07</td>\n",
       "      <td>7.471030e+07</td>\n",
       "      <td>3.765300e+08</td>\n",
       "    </tr>\n",
       "  </tbody>\n",
       "</table>\n",
       "</div>"
      ],
      "text/plain": [
       "            count          mean           std           min           25%  \\\n",
       "Open       2011.0  1.267075e+02  5.048375e+01  5.542429e+01  8.588286e+01   \n",
       "High       2011.0  1.278276e+02  5.092630e+01  5.708571e+01  8.671786e+01   \n",
       "Low        2011.0  1.255803e+02  5.012494e+01  5.501429e+01  8.505643e+01   \n",
       "Close      2011.0  1.267412e+02  5.057837e+01  5.579000e+01  8.620214e+01   \n",
       "Adj Close  2011.0  1.195055e+02  5.243844e+01  4.892193e+01  7.505668e+01   \n",
       "Volume     2011.0  5.949670e+07  4.683856e+07  1.136200e+07  2.758565e+07   \n",
       "\n",
       "                    50%           75%           max  \n",
       "Open       1.130500e+02  1.651900e+02  2.911200e+02  \n",
       "High       1.141900e+02  1.674100e+02  2.939700e+02  \n",
       "Low        1.118700e+02  1.634250e+02  2.881200e+02  \n",
       "Close      1.130500e+02  1.652450e+02  2.915200e+02  \n",
       "Adj Close  1.052229e+02  1.600471e+02  2.895226e+02  \n",
       "Volume     4.346900e+07  7.471030e+07  3.765300e+08  "
      ]
     },
     "execution_count": 15,
     "metadata": {},
     "output_type": "execute_result"
    }
   ],
   "source": [
    "data.describe().T"
   ]
  },
  {
   "cell_type": "code",
   "execution_count": 16,
   "id": "bbce0d3e",
   "metadata": {},
   "outputs": [
    {
     "data": {
      "text/plain": [
       "0"
      ]
     },
     "execution_count": 16,
     "metadata": {},
     "output_type": "execute_result"
    }
   ],
   "source": [
    "# checking duplicated values \n",
    "data.duplicated().sum()"
   ]
  },
  {
   "cell_type": "code",
   "execution_count": 17,
   "id": "140d91e1",
   "metadata": {},
   "outputs": [
    {
     "data": {
      "text/plain": [
       "Open         0\n",
       "High         0\n",
       "Low          0\n",
       "Close        0\n",
       "Adj Close    0\n",
       "Volume       0\n",
       "dtype: int64"
      ]
     },
     "execution_count": 17,
     "metadata": {},
     "output_type": "execute_result"
    }
   ],
   "source": [
    "# Check for missing value\n",
    "data.isnull().sum()"
   ]
  },
  {
   "cell_type": "code",
   "execution_count": 18,
   "id": "0089d9e2",
   "metadata": {},
   "outputs": [
    {
     "data": {
      "text/html": [
       "<div>\n",
       "<style scoped>\n",
       "    .dataframe tbody tr th:only-of-type {\n",
       "        vertical-align: middle;\n",
       "    }\n",
       "\n",
       "    .dataframe tbody tr th {\n",
       "        vertical-align: top;\n",
       "    }\n",
       "\n",
       "    .dataframe thead th {\n",
       "        text-align: right;\n",
       "    }\n",
       "</style>\n",
       "<table border=\"1\" class=\"dataframe\">\n",
       "  <thead>\n",
       "    <tr style=\"text-align: right;\">\n",
       "      <th></th>\n",
       "      <th>Open</th>\n",
       "      <th>High</th>\n",
       "      <th>Low</th>\n",
       "      <th>Close</th>\n",
       "      <th>Adj Close</th>\n",
       "      <th>Volume</th>\n",
       "    </tr>\n",
       "  </thead>\n",
       "  <tbody>\n",
       "    <tr>\n",
       "      <th>Open</th>\n",
       "      <td>1.000000</td>\n",
       "      <td>0.999782</td>\n",
       "      <td>0.999718</td>\n",
       "      <td>0.999496</td>\n",
       "      <td>0.998895</td>\n",
       "      <td>-0.557956</td>\n",
       "    </tr>\n",
       "    <tr>\n",
       "      <th>High</th>\n",
       "      <td>0.999782</td>\n",
       "      <td>1.000000</td>\n",
       "      <td>0.999657</td>\n",
       "      <td>0.999748</td>\n",
       "      <td>0.999171</td>\n",
       "      <td>-0.554909</td>\n",
       "    </tr>\n",
       "    <tr>\n",
       "      <th>Low</th>\n",
       "      <td>0.999718</td>\n",
       "      <td>0.999657</td>\n",
       "      <td>1.000000</td>\n",
       "      <td>0.999769</td>\n",
       "      <td>0.999179</td>\n",
       "      <td>-0.563426</td>\n",
       "    </tr>\n",
       "    <tr>\n",
       "      <th>Close</th>\n",
       "      <td>0.999496</td>\n",
       "      <td>0.999748</td>\n",
       "      <td>0.999769</td>\n",
       "      <td>1.000000</td>\n",
       "      <td>0.999402</td>\n",
       "      <td>-0.559654</td>\n",
       "    </tr>\n",
       "    <tr>\n",
       "      <th>Adj Close</th>\n",
       "      <td>0.998895</td>\n",
       "      <td>0.999171</td>\n",
       "      <td>0.999179</td>\n",
       "      <td>0.999402</td>\n",
       "      <td>1.000000</td>\n",
       "      <td>-0.566332</td>\n",
       "    </tr>\n",
       "    <tr>\n",
       "      <th>Volume</th>\n",
       "      <td>-0.557956</td>\n",
       "      <td>-0.554909</td>\n",
       "      <td>-0.563426</td>\n",
       "      <td>-0.559654</td>\n",
       "      <td>-0.566332</td>\n",
       "      <td>1.000000</td>\n",
       "    </tr>\n",
       "  </tbody>\n",
       "</table>\n",
       "</div>"
      ],
      "text/plain": [
       "               Open      High       Low     Close  Adj Close    Volume\n",
       "Open       1.000000  0.999782  0.999718  0.999496   0.998895 -0.557956\n",
       "High       0.999782  1.000000  0.999657  0.999748   0.999171 -0.554909\n",
       "Low        0.999718  0.999657  1.000000  0.999769   0.999179 -0.563426\n",
       "Close      0.999496  0.999748  0.999769  1.000000   0.999402 -0.559654\n",
       "Adj Close  0.998895  0.999171  0.999179  0.999402   1.000000 -0.566332\n",
       "Volume    -0.557956 -0.554909 -0.563426 -0.559654  -0.566332  1.000000"
      ]
     },
     "execution_count": 18,
     "metadata": {},
     "output_type": "execute_result"
    }
   ],
   "source": [
    "## checking the correlation \n",
    "data.corr()"
   ]
  },
  {
   "cell_type": "markdown",
   "id": "5463aacf",
   "metadata": {},
   "source": [
    "## Data Visualization"
   ]
  },
  {
   "cell_type": "code",
   "execution_count": 19,
   "id": "b8185a1f",
   "metadata": {},
   "outputs": [
    {
     "data": {
      "application/javascript": [
       "\n",
       "        if (window._pyforest_update_imports_cell) { window._pyforest_update_imports_cell('import pandas as pd\\nimport matplotlib.pyplot as plt'); }\n",
       "    "
      ],
      "text/plain": [
       "<IPython.core.display.Javascript object>"
      ]
     },
     "metadata": {},
     "output_type": "display_data"
    },
    {
     "data": {
      "text/plain": [
       "[<matplotlib.lines.Line2D at 0x2a5dc529760>]"
      ]
     },
     "execution_count": 19,
     "metadata": {},
     "output_type": "execute_result"
    },
    {
     "data": {
      "image/png": "[encoded data removed]",
      "text/plain": [
       "<Figure size 432x288 with 1 Axes>"
      ]
     },
     "metadata": {
      "needs_background": "light"
     },
     "output_type": "display_data"
    }
   ],
   "source": [
    "plt.plot(data['Close'])\n"
   ]
  },
  {
   "cell_type": "markdown",
   "id": "16efda4c",
   "metadata": {},
   "source": [
    "## Working on Missing Values\n"
   ]
  },
  {
   "cell_type": "code",
   "execution_count": 20,
   "id": "5ea1c2b2",
   "metadata": {},
   "outputs": [
    {
     "name": "stdout",
     "output_type": "stream",
     "text": [
      "Total Days: 2919 days, 0:00:00\n",
      "Market open days: 2086\n"
     ]
    }
   ],
   "source": [
    "import datetime\n",
    "\n",
    "\n",
    "# Define the start and end dates\n",
    "start_date=datetime.date(2012,1,2)\n",
    "end_date=datetime.date(2019,12,30)\n",
    "\n",
    "# Calculate the number of days between start and end date\n",
    "delta = end_date - start_date\n",
    "print(\"Total Days:\",delta)\n",
    "\n",
    "# Initialize counters for market close days and market open days\n",
    "market_close_days= 0\n",
    "market_open_days = 0\n",
    "\n",
    "\n",
    "# Loop through each day in the date range\n",
    "for i in range(delta.days + 1):\n",
    "    current_date = start_date+datetime.timedelta(days=i)\n",
    "    \n",
    "    \n",
    "# Check if the current day is a weekend (saturday or sunday)    \n",
    "    if current_date.weekday()>=5:\n",
    "         continue \n",
    "            \n",
    "            \n",
    "    market_open_days += 1\n",
    "    \n",
    "print(\"Market open days:\",market_open_days)"
   ]
  },
  {
   "cell_type": "code",
   "execution_count": 21,
   "id": "01f1e743",
   "metadata": {},
   "outputs": [
    {
     "data": {
      "text/html": [
       "<div>\n",
       "<style scoped>\n",
       "    .dataframe tbody tr th:only-of-type {\n",
       "        vertical-align: middle;\n",
       "    }\n",
       "\n",
       "    .dataframe tbody tr th {\n",
       "        vertical-align: top;\n",
       "    }\n",
       "\n",
       "    .dataframe thead th {\n",
       "        text-align: right;\n",
       "    }\n",
       "</style>\n",
       "<table border=\"1\" class=\"dataframe\">\n",
       "  <thead>\n",
       "    <tr style=\"text-align: right;\">\n",
       "      <th></th>\n",
       "      <th>Open</th>\n",
       "      <th>High</th>\n",
       "      <th>Low</th>\n",
       "      <th>Close</th>\n",
       "      <th>Adj Close</th>\n",
       "      <th>Volume</th>\n",
       "    </tr>\n",
       "    <tr>\n",
       "      <th>Date</th>\n",
       "      <th></th>\n",
       "      <th></th>\n",
       "      <th></th>\n",
       "      <th></th>\n",
       "      <th></th>\n",
       "      <th></th>\n",
       "    </tr>\n",
       "  </thead>\n",
       "  <tbody>\n",
       "    <tr>\n",
       "      <th>2012-01-03</th>\n",
       "      <td>58.485714</td>\n",
       "      <td>58.928570</td>\n",
       "      <td>58.428570</td>\n",
       "      <td>58.747143</td>\n",
       "      <td>50.765709</td>\n",
       "      <td>75555200</td>\n",
       "    </tr>\n",
       "    <tr>\n",
       "      <th>2012-01-04</th>\n",
       "      <td>58.571430</td>\n",
       "      <td>59.240002</td>\n",
       "      <td>58.468571</td>\n",
       "      <td>59.062859</td>\n",
       "      <td>51.038536</td>\n",
       "      <td>65005500</td>\n",
       "    </tr>\n",
       "    <tr>\n",
       "      <th>2012-01-05</th>\n",
       "      <td>59.278572</td>\n",
       "      <td>59.792858</td>\n",
       "      <td>58.952858</td>\n",
       "      <td>59.718571</td>\n",
       "      <td>51.605175</td>\n",
       "      <td>67817400</td>\n",
       "    </tr>\n",
       "    <tr>\n",
       "      <th>2012-01-06</th>\n",
       "      <td>59.967144</td>\n",
       "      <td>60.392857</td>\n",
       "      <td>59.888573</td>\n",
       "      <td>60.342857</td>\n",
       "      <td>52.144630</td>\n",
       "      <td>79573200</td>\n",
       "    </tr>\n",
       "    <tr>\n",
       "      <th>2012-01-09</th>\n",
       "      <td>60.785713</td>\n",
       "      <td>61.107143</td>\n",
       "      <td>60.192856</td>\n",
       "      <td>60.247143</td>\n",
       "      <td>52.061932</td>\n",
       "      <td>98506100</td>\n",
       "    </tr>\n",
       "    <tr>\n",
       "      <th>2012-01-10</th>\n",
       "      <td>60.844284</td>\n",
       "      <td>60.857143</td>\n",
       "      <td>60.214287</td>\n",
       "      <td>60.462856</td>\n",
       "      <td>52.248333</td>\n",
       "      <td>64549100</td>\n",
       "    </tr>\n",
       "    <tr>\n",
       "      <th>2012-01-11</th>\n",
       "      <td>60.382858</td>\n",
       "      <td>60.407143</td>\n",
       "      <td>59.901428</td>\n",
       "      <td>60.364285</td>\n",
       "      <td>52.163139</td>\n",
       "      <td>53771200</td>\n",
       "    </tr>\n",
       "    <tr>\n",
       "      <th>2012-01-12</th>\n",
       "      <td>60.325714</td>\n",
       "      <td>60.414288</td>\n",
       "      <td>59.821430</td>\n",
       "      <td>60.198570</td>\n",
       "      <td>52.019955</td>\n",
       "      <td>53146800</td>\n",
       "    </tr>\n",
       "    <tr>\n",
       "      <th>2012-01-13</th>\n",
       "      <td>59.957142</td>\n",
       "      <td>60.064285</td>\n",
       "      <td>59.808571</td>\n",
       "      <td>59.972858</td>\n",
       "      <td>51.824898</td>\n",
       "      <td>56505400</td>\n",
       "    </tr>\n",
       "    <tr>\n",
       "      <th>2012-01-17</th>\n",
       "      <td>60.599998</td>\n",
       "      <td>60.855713</td>\n",
       "      <td>60.422855</td>\n",
       "      <td>60.671429</td>\n",
       "      <td>52.428562</td>\n",
       "      <td>60724300</td>\n",
       "    </tr>\n",
       "    <tr>\n",
       "      <th>2012-01-18</th>\n",
       "      <td>60.994286</td>\n",
       "      <td>61.352856</td>\n",
       "      <td>60.900002</td>\n",
       "      <td>61.301430</td>\n",
       "      <td>52.972977</td>\n",
       "      <td>69197800</td>\n",
       "    </tr>\n",
       "    <tr>\n",
       "      <th>2012-01-19</th>\n",
       "      <td>61.450001</td>\n",
       "      <td>61.624287</td>\n",
       "      <td>60.930000</td>\n",
       "      <td>61.107143</td>\n",
       "      <td>52.805092</td>\n",
       "      <td>65434600</td>\n",
       "    </tr>\n",
       "    <tr>\n",
       "      <th>2012-01-20</th>\n",
       "      <td>61.070000</td>\n",
       "      <td>61.071430</td>\n",
       "      <td>59.964287</td>\n",
       "      <td>60.042858</td>\n",
       "      <td>51.885387</td>\n",
       "      <td>103493600</td>\n",
       "    </tr>\n",
       "    <tr>\n",
       "      <th>2012-01-23</th>\n",
       "      <td>60.381428</td>\n",
       "      <td>61.207142</td>\n",
       "      <td>60.328571</td>\n",
       "      <td>61.058571</td>\n",
       "      <td>52.763115</td>\n",
       "      <td>76515600</td>\n",
       "    </tr>\n",
       "    <tr>\n",
       "      <th>2012-01-24</th>\n",
       "      <td>60.728573</td>\n",
       "      <td>60.728573</td>\n",
       "      <td>59.935715</td>\n",
       "      <td>60.058571</td>\n",
       "      <td>51.898972</td>\n",
       "      <td>136909500</td>\n",
       "    </tr>\n",
       "    <tr>\n",
       "      <th>2012-01-25</th>\n",
       "      <td>64.919998</td>\n",
       "      <td>64.921425</td>\n",
       "      <td>63.389999</td>\n",
       "      <td>63.808571</td>\n",
       "      <td>55.139496</td>\n",
       "      <td>239578500</td>\n",
       "    </tr>\n",
       "    <tr>\n",
       "      <th>2012-01-26</th>\n",
       "      <td>64.051430</td>\n",
       "      <td>64.112854</td>\n",
       "      <td>63.305714</td>\n",
       "      <td>63.518570</td>\n",
       "      <td>54.888889</td>\n",
       "      <td>80996300</td>\n",
       "    </tr>\n",
       "    <tr>\n",
       "      <th>2012-01-27</th>\n",
       "      <td>63.477142</td>\n",
       "      <td>64.068573</td>\n",
       "      <td>63.395714</td>\n",
       "      <td>63.897144</td>\n",
       "      <td>55.216022</td>\n",
       "      <td>74927300</td>\n",
       "    </tr>\n",
       "    <tr>\n",
       "      <th>2012-01-30</th>\n",
       "      <td>63.672855</td>\n",
       "      <td>64.842857</td>\n",
       "      <td>63.627144</td>\n",
       "      <td>64.715714</td>\n",
       "      <td>55.923389</td>\n",
       "      <td>94835300</td>\n",
       "    </tr>\n",
       "    <tr>\n",
       "      <th>2012-01-31</th>\n",
       "      <td>65.084282</td>\n",
       "      <td>65.462860</td>\n",
       "      <td>64.724289</td>\n",
       "      <td>65.211426</td>\n",
       "      <td>56.351761</td>\n",
       "      <td>97920900</td>\n",
       "    </tr>\n",
       "  </tbody>\n",
       "</table>\n",
       "</div>"
      ],
      "text/plain": [
       "                 Open       High        Low      Close  Adj Close     Volume\n",
       "Date                                                                        \n",
       "2012-01-03  58.485714  58.928570  58.428570  58.747143  50.765709   75555200\n",
       "2012-01-04  58.571430  59.240002  58.468571  59.062859  51.038536   65005500\n",
       "2012-01-05  59.278572  59.792858  58.952858  59.718571  51.605175   67817400\n",
       "2012-01-06  59.967144  60.392857  59.888573  60.342857  52.144630   79573200\n",
       "2012-01-09  60.785713  61.107143  60.192856  60.247143  52.061932   98506100\n",
       "2012-01-10  60.844284  60.857143  60.214287  60.462856  52.248333   64549100\n",
       "2012-01-11  60.382858  60.407143  59.901428  60.364285  52.163139   53771200\n",
       "2012-01-12  60.325714  60.414288  59.821430  60.198570  52.019955   53146800\n",
       "2012-01-13  59.957142  60.064285  59.808571  59.972858  51.824898   56505400\n",
       "2012-01-17  60.599998  60.855713  60.422855  60.671429  52.428562   60724300\n",
       "2012-01-18  60.994286  61.352856  60.900002  61.301430  52.972977   69197800\n",
       "2012-01-19  61.450001  61.624287  60.930000  61.107143  52.805092   65434600\n",
       "2012-01-20  61.070000  61.071430  59.964287  60.042858  51.885387  103493600\n",
       "2012-01-23  60.381428  61.207142  60.328571  61.058571  52.763115   76515600\n",
       "2012-01-24  60.728573  60.728573  59.935715  60.058571  51.898972  136909500\n",
       "2012-01-25  64.919998  64.921425  63.389999  63.808571  55.139496  239578500\n",
       "2012-01-26  64.051430  64.112854  63.305714  63.518570  54.888889   80996300\n",
       "2012-01-27  63.477142  64.068573  63.395714  63.897144  55.216022   74927300\n",
       "2012-01-30  63.672855  64.842857  63.627144  64.715714  55.923389   94835300\n",
       "2012-01-31  65.084282  65.462860  64.724289  65.211426  56.351761   97920900"
      ]
     },
     "execution_count": 21,
     "metadata": {},
     "output_type": "execute_result"
    }
   ],
   "source": [
    "data.head(20)"
   ]
  },
  {
   "cell_type": "markdown",
   "id": "ada1a9ef",
   "metadata": {},
   "source": [
    "We have total days 2919     #(2919-2086===833)......That means 833 days market is closed\n",
    "\n",
    "market open days are 2086 days  # market open only 5 days in week\n",
    "\n",
    "we have record of 2011 days   #(2086-2011=75)......that means we have 75 missing values\n",
    "\n",
    "If we add market close days and missing values days we get total record of missing days # (833+75 = 908).......\n",
    "We conclude that we have missing velues/records of 908 Days.\n",
    "\n",
    "    "
   ]
  },
  {
   "cell_type": "markdown",
   "id": "59a98ca6",
   "metadata": {},
   "source": [
    "## Interpolation"
   ]
  },
  {
   "cell_type": "code",
   "execution_count": 22,
   "id": "5104cb49",
   "metadata": {},
   "outputs": [
    {
     "name": "stdout",
     "output_type": "stream",
     "text": [
      "           Date        Open        High         Low       Close   Adj Close  \\\n",
      "0    2012-01-03   58.485714   58.928570   58.428570   58.747143   50.765709   \n",
      "1    2012-01-04   58.571430   59.240002   58.468571   59.062859   51.038536   \n",
      "2    2012-01-05   59.278572   59.792858   58.952858   59.718571   51.605175   \n",
      "3    2012-01-06   59.967144   60.392857   59.888573   60.342857   52.144630   \n",
      "4    2012-01-09   60.785713   61.107143   60.192856   60.247143   52.061932   \n",
      "...         ...         ...         ...         ...         ...         ...   \n",
      "2006 2019-12-23  280.529999  284.250000  280.369995  284.000000  282.054138   \n",
      "2007 2019-12-24  284.690002  284.890015  282.920013  284.269989  282.322266   \n",
      "2008 2019-12-26  284.820007  289.980011  284.700012  289.910004  287.923645   \n",
      "2009 2019-12-27  291.119995  293.970001  288.119995  289.799988  287.814392   \n",
      "2010 2019-12-30  289.459991  292.690002  285.220001  291.519989  289.522614   \n",
      "\n",
      "        Volume  \n",
      "0     75555200  \n",
      "1     65005500  \n",
      "2     67817400  \n",
      "3     79573200  \n",
      "4     98506100  \n",
      "...        ...  \n",
      "2006  24643000  \n",
      "2007  12119700  \n",
      "2008  23280300  \n",
      "2009  36566500  \n",
      "2010  36028600  \n",
      "\n",
      "[2011 rows x 7 columns]\n"
     ]
    }
   ],
   "source": [
    "# Interpolate the missing values\n",
    "\n",
    "data = data.interpolate(method='linear')\n",
    "\n",
    "# Reset the index\n",
    "data= data.reset_index()\n",
    "# Print the DataFrame with missing values interpolated\n",
    "print(data)"
   ]
  },
  {
   "cell_type": "code",
   "execution_count": 23,
   "id": "c46592d9",
   "metadata": {},
   "outputs": [
    {
     "data": {
      "text/plain": [
       "(2011, 7)"
      ]
     },
     "execution_count": 23,
     "metadata": {},
     "output_type": "execute_result"
    }
   ],
   "source": [
    "data.shape"
   ]
  },
  {
   "cell_type": "code",
   "execution_count": 24,
   "id": "0d14a2ff",
   "metadata": {},
   "outputs": [
    {
     "data": {
      "text/html": [
       "<div>\n",
       "<style scoped>\n",
       "    .dataframe tbody tr th:only-of-type {\n",
       "        vertical-align: middle;\n",
       "    }\n",
       "\n",
       "    .dataframe tbody tr th {\n",
       "        vertical-align: top;\n",
       "    }\n",
       "\n",
       "    .dataframe thead th {\n",
       "        text-align: right;\n",
       "    }\n",
       "</style>\n",
       "<table border=\"1\" class=\"dataframe\">\n",
       "  <thead>\n",
       "    <tr style=\"text-align: right;\">\n",
       "      <th></th>\n",
       "      <th>Date</th>\n",
       "      <th>Open</th>\n",
       "      <th>High</th>\n",
       "      <th>Low</th>\n",
       "      <th>Close</th>\n",
       "      <th>Adj Close</th>\n",
       "      <th>Volume</th>\n",
       "    </tr>\n",
       "  </thead>\n",
       "  <tbody>\n",
       "    <tr>\n",
       "      <th>0</th>\n",
       "      <td>2012-01-03</td>\n",
       "      <td>58.485714</td>\n",
       "      <td>58.928570</td>\n",
       "      <td>58.428570</td>\n",
       "      <td>58.747143</td>\n",
       "      <td>50.765709</td>\n",
       "      <td>75555200</td>\n",
       "    </tr>\n",
       "    <tr>\n",
       "      <th>1</th>\n",
       "      <td>2012-01-04</td>\n",
       "      <td>58.571430</td>\n",
       "      <td>59.240002</td>\n",
       "      <td>58.468571</td>\n",
       "      <td>59.062859</td>\n",
       "      <td>51.038536</td>\n",
       "      <td>65005500</td>\n",
       "    </tr>\n",
       "    <tr>\n",
       "      <th>2</th>\n",
       "      <td>2012-01-05</td>\n",
       "      <td>59.278572</td>\n",
       "      <td>59.792858</td>\n",
       "      <td>58.952858</td>\n",
       "      <td>59.718571</td>\n",
       "      <td>51.605175</td>\n",
       "      <td>67817400</td>\n",
       "    </tr>\n",
       "    <tr>\n",
       "      <th>3</th>\n",
       "      <td>2012-01-06</td>\n",
       "      <td>59.967144</td>\n",
       "      <td>60.392857</td>\n",
       "      <td>59.888573</td>\n",
       "      <td>60.342857</td>\n",
       "      <td>52.144630</td>\n",
       "      <td>79573200</td>\n",
       "    </tr>\n",
       "    <tr>\n",
       "      <th>4</th>\n",
       "      <td>2012-01-09</td>\n",
       "      <td>60.785713</td>\n",
       "      <td>61.107143</td>\n",
       "      <td>60.192856</td>\n",
       "      <td>60.247143</td>\n",
       "      <td>52.061932</td>\n",
       "      <td>98506100</td>\n",
       "    </tr>\n",
       "  </tbody>\n",
       "</table>\n",
       "</div>"
      ],
      "text/plain": [
       "        Date       Open       High        Low      Close  Adj Close    Volume\n",
       "0 2012-01-03  58.485714  58.928570  58.428570  58.747143  50.765709  75555200\n",
       "1 2012-01-04  58.571430  59.240002  58.468571  59.062859  51.038536  65005500\n",
       "2 2012-01-05  59.278572  59.792858  58.952858  59.718571  51.605175  67817400\n",
       "3 2012-01-06  59.967144  60.392857  59.888573  60.342857  52.144630  79573200\n",
       "4 2012-01-09  60.785713  61.107143  60.192856  60.247143  52.061932  98506100"
      ]
     },
     "execution_count": 24,
     "metadata": {},
     "output_type": "execute_result"
    }
   ],
   "source": [
    "data.head()"
   ]
  },
  {
   "cell_type": "code",
   "execution_count": 25,
   "id": "18e18ead",
   "metadata": {},
   "outputs": [
    {
     "data": {
      "image/png": "[encoded data removed]",
      "text/plain": [
       "<Figure size 432x288 with 1 Axes>"
      ]
     },
     "metadata": {
      "needs_background": "light"
     },
     "output_type": "display_data"
    }
   ],
   "source": [
    "import matplotlib.pyplot as plt\n",
    "\n",
    "# Plot the Close price over time\n",
    "plt.plot(data['Close'])\n",
    "plt.xlabel('Date')\n",
    "plt.ylabel('Close Price')\n",
    "plt.title('AAPL Close Price over Time')\n",
    "plt.show()\n"
   ]
  },
  {
   "cell_type": "code",
   "execution_count": 26,
   "id": "2dc677c9",
   "metadata": {},
   "outputs": [
    {
     "data": {
      "application/javascript": [
       "\n",
       "        if (window._pyforest_update_imports_cell) { window._pyforest_update_imports_cell('import pandas as pd\\nimport matplotlib.pyplot as plt'); }\n",
       "    "
      ],
      "text/plain": [
       "<IPython.core.display.Javascript object>"
      ]
     },
     "metadata": {},
     "output_type": "display_data"
    }
   ],
   "source": [
    "data.index = pd.to_datetime(data.Date)\n"
   ]
  },
  {
   "cell_type": "markdown",
   "id": "06421298",
   "metadata": {},
   "source": [
    "# Periodic Visualization of the Apple Stock Market Data"
   ]
  },
  {
   "cell_type": "markdown",
   "id": "b3666b40",
   "metadata": {},
   "source": [
    "We got to see that the data has an upward trend from plotting the line plot against the daily stock prices. Let us check the same line plot plotted after smoothening the data on a weekly, monthly,quaterly and annual basis. "
   ]
  },
  {
   "cell_type": "markdown",
   "id": "6eb958f0",
   "metadata": {},
   "source": [
    "By doing this, we can determine the seasonality of the data, i.e. is the data varying weekly, monthly or on what time interval. This helps us in model building"
   ]
  },
  {
   "cell_type": "markdown",
   "id": "6006464d",
   "metadata": {},
   "source": [
    "## 1. Weekly Smoothening"
   ]
  },
  {
   "cell_type": "code",
   "execution_count": 27,
   "id": "a886d512",
   "metadata": {},
   "outputs": [
    {
     "data": {
      "text/html": [
       "<div>\n",
       "<style scoped>\n",
       "    .dataframe tbody tr th:only-of-type {\n",
       "        vertical-align: middle;\n",
       "    }\n",
       "\n",
       "    .dataframe tbody tr th {\n",
       "        vertical-align: top;\n",
       "    }\n",
       "\n",
       "    .dataframe thead th {\n",
       "        text-align: right;\n",
       "    }\n",
       "</style>\n",
       "<table border=\"1\" class=\"dataframe\">\n",
       "  <thead>\n",
       "    <tr style=\"text-align: right;\">\n",
       "      <th></th>\n",
       "      <th>Date</th>\n",
       "      <th>Open</th>\n",
       "      <th>High</th>\n",
       "      <th>Low</th>\n",
       "      <th>Close</th>\n",
       "      <th>Adj Close</th>\n",
       "      <th>Volume</th>\n",
       "    </tr>\n",
       "    <tr>\n",
       "      <th>Date</th>\n",
       "      <th></th>\n",
       "      <th></th>\n",
       "      <th></th>\n",
       "      <th></th>\n",
       "      <th></th>\n",
       "      <th></th>\n",
       "      <th></th>\n",
       "    </tr>\n",
       "  </thead>\n",
       "  <tbody>\n",
       "    <tr>\n",
       "      <th>2012-01-03</th>\n",
       "      <td>2012-01-03</td>\n",
       "      <td>58.485714</td>\n",
       "      <td>58.928570</td>\n",
       "      <td>58.428570</td>\n",
       "      <td>58.747143</td>\n",
       "      <td>50.765709</td>\n",
       "      <td>75555200</td>\n",
       "    </tr>\n",
       "    <tr>\n",
       "      <th>2012-01-04</th>\n",
       "      <td>2012-01-04</td>\n",
       "      <td>58.571430</td>\n",
       "      <td>59.240002</td>\n",
       "      <td>58.468571</td>\n",
       "      <td>59.062859</td>\n",
       "      <td>51.038536</td>\n",
       "      <td>65005500</td>\n",
       "    </tr>\n",
       "    <tr>\n",
       "      <th>2012-01-05</th>\n",
       "      <td>2012-01-05</td>\n",
       "      <td>59.278572</td>\n",
       "      <td>59.792858</td>\n",
       "      <td>58.952858</td>\n",
       "      <td>59.718571</td>\n",
       "      <td>51.605175</td>\n",
       "      <td>67817400</td>\n",
       "    </tr>\n",
       "    <tr>\n",
       "      <th>2012-01-06</th>\n",
       "      <td>2012-01-06</td>\n",
       "      <td>59.967144</td>\n",
       "      <td>60.392857</td>\n",
       "      <td>59.888573</td>\n",
       "      <td>60.342857</td>\n",
       "      <td>52.144630</td>\n",
       "      <td>79573200</td>\n",
       "    </tr>\n",
       "    <tr>\n",
       "      <th>2012-01-09</th>\n",
       "      <td>2012-01-09</td>\n",
       "      <td>60.785713</td>\n",
       "      <td>61.107143</td>\n",
       "      <td>60.192856</td>\n",
       "      <td>60.247143</td>\n",
       "      <td>52.061932</td>\n",
       "      <td>98506100</td>\n",
       "    </tr>\n",
       "    <tr>\n",
       "      <th>...</th>\n",
       "      <td>...</td>\n",
       "      <td>...</td>\n",
       "      <td>...</td>\n",
       "      <td>...</td>\n",
       "      <td>...</td>\n",
       "      <td>...</td>\n",
       "      <td>...</td>\n",
       "    </tr>\n",
       "    <tr>\n",
       "      <th>2019-12-23</th>\n",
       "      <td>2019-12-23</td>\n",
       "      <td>280.529999</td>\n",
       "      <td>284.250000</td>\n",
       "      <td>280.369995</td>\n",
       "      <td>284.000000</td>\n",
       "      <td>282.054138</td>\n",
       "      <td>24643000</td>\n",
       "    </tr>\n",
       "    <tr>\n",
       "      <th>2019-12-24</th>\n",
       "      <td>2019-12-24</td>\n",
       "      <td>284.690002</td>\n",
       "      <td>284.890015</td>\n",
       "      <td>282.920013</td>\n",
       "      <td>284.269989</td>\n",
       "      <td>282.322266</td>\n",
       "      <td>12119700</td>\n",
       "    </tr>\n",
       "    <tr>\n",
       "      <th>2019-12-26</th>\n",
       "      <td>2019-12-26</td>\n",
       "      <td>284.820007</td>\n",
       "      <td>289.980011</td>\n",
       "      <td>284.700012</td>\n",
       "      <td>289.910004</td>\n",
       "      <td>287.923645</td>\n",
       "      <td>23280300</td>\n",
       "    </tr>\n",
       "    <tr>\n",
       "      <th>2019-12-27</th>\n",
       "      <td>2019-12-27</td>\n",
       "      <td>291.119995</td>\n",
       "      <td>293.970001</td>\n",
       "      <td>288.119995</td>\n",
       "      <td>289.799988</td>\n",
       "      <td>287.814392</td>\n",
       "      <td>36566500</td>\n",
       "    </tr>\n",
       "    <tr>\n",
       "      <th>2019-12-30</th>\n",
       "      <td>2019-12-30</td>\n",
       "      <td>289.459991</td>\n",
       "      <td>292.690002</td>\n",
       "      <td>285.220001</td>\n",
       "      <td>291.519989</td>\n",
       "      <td>289.522614</td>\n",
       "      <td>36028600</td>\n",
       "    </tr>\n",
       "  </tbody>\n",
       "</table>\n",
       "<p>2011 rows × 7 columns</p>\n",
       "</div>"
      ],
      "text/plain": [
       "                 Date        Open        High         Low       Close  \\\n",
       "Date                                                                    \n",
       "2012-01-03 2012-01-03   58.485714   58.928570   58.428570   58.747143   \n",
       "2012-01-04 2012-01-04   58.571430   59.240002   58.468571   59.062859   \n",
       "2012-01-05 2012-01-05   59.278572   59.792858   58.952858   59.718571   \n",
       "2012-01-06 2012-01-06   59.967144   60.392857   59.888573   60.342857   \n",
       "2012-01-09 2012-01-09   60.785713   61.107143   60.192856   60.247143   \n",
       "...               ...         ...         ...         ...         ...   \n",
       "2019-12-23 2019-12-23  280.529999  284.250000  280.369995  284.000000   \n",
       "2019-12-24 2019-12-24  284.690002  284.890015  282.920013  284.269989   \n",
       "2019-12-26 2019-12-26  284.820007  289.980011  284.700012  289.910004   \n",
       "2019-12-27 2019-12-27  291.119995  293.970001  288.119995  289.799988   \n",
       "2019-12-30 2019-12-30  289.459991  292.690002  285.220001  291.519989   \n",
       "\n",
       "             Adj Close    Volume  \n",
       "Date                              \n",
       "2012-01-03   50.765709  75555200  \n",
       "2012-01-04   51.038536  65005500  \n",
       "2012-01-05   51.605175  67817400  \n",
       "2012-01-06   52.144630  79573200  \n",
       "2012-01-09   52.061932  98506100  \n",
       "...                ...       ...  \n",
       "2019-12-23  282.054138  24643000  \n",
       "2019-12-24  282.322266  12119700  \n",
       "2019-12-26  287.923645  23280300  \n",
       "2019-12-27  287.814392  36566500  \n",
       "2019-12-30  289.522614  36028600  \n",
       "\n",
       "[2011 rows x 7 columns]"
      ]
     },
     "execution_count": 27,
     "metadata": {},
     "output_type": "execute_result"
    }
   ],
   "source": [
    "data"
   ]
  },
  {
   "cell_type": "code",
   "execution_count": 28,
   "id": "4c0f2672",
   "metadata": {
    "scrolled": false
   },
   "outputs": [
    {
     "data": {
      "image/png": "[encoded data removed]",
      "text/plain": [
       "<Figure size 432x288 with 1 Axes>"
      ]
     },
     "metadata": {
      "needs_background": "light"
     },
     "output_type": "display_data"
    },
    {
     "data": {
      "text/plain": [
       "<Figure size 1440x720 with 0 Axes>"
      ]
     },
     "metadata": {},
     "output_type": "display_data"
    },
    {
     "data": {
      "image/png": "[encoded data removed]",
      "text/plain": [
       "<Figure size 432x288 with 4 Axes>"
      ]
     },
     "metadata": {
      "needs_background": "light"
     },
     "output_type": "display_data"
    }
   ],
   "source": [
    "\n",
    "W_data=data.resample('W').mean()\n",
    "W_data['Close'].plot()\n",
    "\n",
    "from statsmodels.tsa.seasonal import seasonal_decompose\n",
    "\n",
    "plt.figure(figsize=(20,10))\n",
    "decompose_ts_add = seasonal_decompose(W_data.Close,period=12) #period 12 is \n",
    "decompose_ts_add.plot()\n",
    "plt.show()"
   ]
  },
  {
   "cell_type": "markdown",
   "id": "9044f01b",
   "metadata": {},
   "source": [
    "### From the above decomposition plot , we are getting an exponential trend with additive seasonality"
   ]
  },
  {
   "cell_type": "markdown",
   "id": "d8024e5d",
   "metadata": {},
   "source": [
    "## 2. Monthly Smoothening"
   ]
  },
  {
   "cell_type": "code",
   "execution_count": 29,
   "id": "992ffc0e",
   "metadata": {
    "scrolled": false
   },
   "outputs": [
    {
     "data": {
      "image/png": "[encoded data removed]",
      "text/plain": [
       "<Figure size 432x288 with 1 Axes>"
      ]
     },
     "metadata": {
      "needs_background": "light"
     },
     "output_type": "display_data"
    },
    {
     "data": {
      "text/plain": [
       "<Figure size 1440x720 with 0 Axes>"
      ]
     },
     "metadata": {},
     "output_type": "display_data"
    },
    {
     "data": {
      "image/png": "[encoded data removed]",
      "text/plain": [
       "<Figure size 432x288 with 4 Axes>"
      ]
     },
     "metadata": {
      "needs_background": "light"
     },
     "output_type": "display_data"
    }
   ],
   "source": [
    "M_data=data.resample('M').mean()\n",
    "M_data['Close'].plot()\n",
    "\n",
    "plt.figure(figsize=(20,10))\n",
    "decompose_ts_add = seasonal_decompose(M_data.Close,period=12) #period 12 is \n",
    "decompose_ts_add.plot()\n",
    "plt.show()"
   ]
  },
  {
   "cell_type": "markdown",
   "id": "36c89ae6",
   "metadata": {},
   "source": [
    "### From the above decomposition plot , we are getting an exponential trend with additive seasonality\n"
   ]
  },
  {
   "cell_type": "markdown",
   "id": "64370a06",
   "metadata": {},
   "source": [
    "## 3. Quaterly Smoothening"
   ]
  },
  {
   "cell_type": "code",
   "execution_count": 30,
   "id": "04edcd76",
   "metadata": {},
   "outputs": [
    {
     "data": {
      "image/png": "[encoded data removed]",
      "text/plain": [
       "<Figure size 432x288 with 1 Axes>"
      ]
     },
     "metadata": {
      "needs_background": "light"
     },
     "output_type": "display_data"
    },
    {
     "data": {
      "text/plain": [
       "<Figure size 1440x720 with 0 Axes>"
      ]
     },
     "metadata": {},
     "output_type": "display_data"
    },
    {
     "data": {
      "image/png": "[encoded data removed]",
      "text/plain": [
       "<Figure size 432x288 with 4 Axes>"
      ]
     },
     "metadata": {
      "needs_background": "light"
     },
     "output_type": "display_data"
    }
   ],
   "source": [
    "Q_data=data.resample('Q').mean()\n",
    "Q_data['Close'].plot()\n",
    "\n",
    "plt.figure(figsize=(20,10))\n",
    "decompose_ts_add = seasonal_decompose(Q_data.Close,period=12) #period 12 is \n",
    "decompose_ts_add.plot()\n",
    "plt.show()"
   ]
  },
  {
   "cell_type": "markdown",
   "id": "804033ca",
   "metadata": {},
   "source": [
    "### From the above decomposition plot , we are getting an exponential trend with additive seasonality\n"
   ]
  },
  {
   "cell_type": "markdown",
   "id": "c915a4fd",
   "metadata": {},
   "source": [
    "## 4. Annual Smoothening"
   ]
  },
  {
   "cell_type": "code",
   "execution_count": 31,
   "id": "f2ab0a2c",
   "metadata": {},
   "outputs": [
    {
     "data": {
      "image/png": "[encoded data removed]",
      "text/plain": [
       "<Figure size 432x288 with 1 Axes>"
      ]
     },
     "metadata": {
      "needs_background": "light"
     },
     "output_type": "display_data"
    },
    {
     "data": {
      "text/plain": [
       "<Figure size 1440x720 with 0 Axes>"
      ]
     },
     "metadata": {},
     "output_type": "display_data"
    },
    {
     "data": {
      "image/png": "[encoded data removed]",
      "text/plain": [
       "<Figure size 432x288 with 4 Axes>"
      ]
     },
     "metadata": {
      "needs_background": "light"
     },
     "output_type": "display_data"
    }
   ],
   "source": [
    "A_data=data.resample('A').mean()\n",
    "A_data['Close'].plot()\n",
    "\n",
    "plt.figure(figsize=(20,10))\n",
    "decompose_ts_add = seasonal_decompose(A_data.Close,period=4) #period 12 is \n",
    "decompose_ts_add.plot()\n",
    "plt.show()"
   ]
  },
  {
   "cell_type": "markdown",
   "id": "f69467fd",
   "metadata": {},
   "source": [
    "### From the above decomposition plot , we are getting an exponential trend with additive seasonality\n"
   ]
  },
  {
   "cell_type": "markdown",
   "id": "1ad25c33",
   "metadata": {},
   "source": [
    "### From the above smoothening techniques, we can conclude that our data has an upward exponential trend with Additive Seasonality.\n",
    "### The presence of seasonality indicates that our data is non-stationery. Forecasting cannot be done on a non stationery data.\n",
    "### Hence we will have to perform some transformations."
   ]
  },
  {
   "cell_type": "markdown",
   "id": "e9659655",
   "metadata": {},
   "source": []
  },
  {
   "cell_type": "markdown",
   "id": "0a081382",
   "metadata": {},
   "source": [
    "## Statisitical Test for finding out the Stationarity: ADF Test"
   ]
  },
  {
   "cell_type": "markdown",
   "id": "b1eeb79e",
   "metadata": {},
   "source": [
    "### Null Hypothesis(Ho)= The data is Non-stationary\n",
    "### Alternate Hypothesis(Ha)= The data is stationary"
   ]
  },
  {
   "cell_type": "code",
   "execution_count": 32,
   "id": "b52807ef",
   "metadata": {},
   "outputs": [
    {
     "name": "stdout",
     "output_type": "stream",
     "text": [
      "Observations of Dickey-fuller test\n"
     ]
    },
    {
     "data": {
      "application/javascript": [
       "\n",
       "        if (window._pyforest_update_imports_cell) { window._pyforest_update_imports_cell('import pandas as pd\\nimport matplotlib.pyplot as plt'); }\n",
       "    "
      ],
      "text/plain": [
       "<IPython.core.display.Javascript object>"
      ]
     },
     "metadata": {},
     "output_type": "display_data"
    }
   ],
   "source": [
    "from statsmodels.tsa.stattools import adfuller\n",
    "print(\"Observations of Dickey-fuller test\")\n",
    "Adf_test = adfuller(data['Close'],autolag='AIC')\n",
    "Adf_output=pd.Series(Adf_test[0:4],index=['Test Statistic','p-value','#lags used','number of observations used'])"
   ]
  },
  {
   "cell_type": "code",
   "execution_count": 33,
   "id": "1349a58b",
   "metadata": {
    "scrolled": true
   },
   "outputs": [
    {
     "data": {
      "text/plain": [
       "Test Statistic                    1.219370\n",
       "p-value                           0.996117\n",
       "#lags used                        9.000000\n",
       "number of observations used    2001.000000\n",
       "dtype: float64"
      ]
     },
     "execution_count": 33,
     "metadata": {},
     "output_type": "execute_result"
    }
   ],
   "source": [
    "Adf_output"
   ]
  },
  {
   "cell_type": "markdown",
   "id": "f3a3266d",
   "metadata": {},
   "source": [
    "### If p-value<0.05, we reject the null hypothesis\n",
    "### If p-value>0.05, we fail to reject the null hypothesis"
   ]
  },
  {
   "cell_type": "markdown",
   "id": "bd6c7fdc",
   "metadata": {},
   "source": [
    "### Hence, as our p-value is greater than 0.05, we fail to reject the null hypothesis. We can conclude via ADF test, that our Data is Non-stationary"
   ]
  },
  {
   "cell_type": "markdown",
   "id": "3bc1a543",
   "metadata": {},
   "source": []
  },
  {
   "cell_type": "code",
   "execution_count": 34,
   "id": "ab480347",
   "metadata": {},
   "outputs": [],
   "source": [
    "data=data.set_index('Date')"
   ]
  },
  {
   "cell_type": "code",
   "execution_count": 35,
   "id": "1efeba94",
   "metadata": {},
   "outputs": [
    {
     "data": {
      "text/html": [
       "<div>\n",
       "<style scoped>\n",
       "    .dataframe tbody tr th:only-of-type {\n",
       "        vertical-align: middle;\n",
       "    }\n",
       "\n",
       "    .dataframe tbody tr th {\n",
       "        vertical-align: top;\n",
       "    }\n",
       "\n",
       "    .dataframe thead th {\n",
       "        text-align: right;\n",
       "    }\n",
       "</style>\n",
       "<table border=\"1\" class=\"dataframe\">\n",
       "  <thead>\n",
       "    <tr style=\"text-align: right;\">\n",
       "      <th></th>\n",
       "      <th>Open</th>\n",
       "      <th>High</th>\n",
       "      <th>Low</th>\n",
       "      <th>Close</th>\n",
       "      <th>Adj Close</th>\n",
       "      <th>Volume</th>\n",
       "    </tr>\n",
       "    <tr>\n",
       "      <th>Date</th>\n",
       "      <th></th>\n",
       "      <th></th>\n",
       "      <th></th>\n",
       "      <th></th>\n",
       "      <th></th>\n",
       "      <th></th>\n",
       "    </tr>\n",
       "  </thead>\n",
       "  <tbody>\n",
       "    <tr>\n",
       "      <th>2018-07-19</th>\n",
       "      <td>189.690002</td>\n",
       "      <td>192.550003</td>\n",
       "      <td>189.690002</td>\n",
       "      <td>191.880005</td>\n",
       "      <td>186.437805</td>\n",
       "      <td>20286800</td>\n",
       "    </tr>\n",
       "    <tr>\n",
       "      <th>2018-07-20</th>\n",
       "      <td>191.779999</td>\n",
       "      <td>192.429993</td>\n",
       "      <td>190.169998</td>\n",
       "      <td>191.440002</td>\n",
       "      <td>186.010315</td>\n",
       "      <td>20676200</td>\n",
       "    </tr>\n",
       "    <tr>\n",
       "      <th>2018-07-23</th>\n",
       "      <td>190.679993</td>\n",
       "      <td>191.960007</td>\n",
       "      <td>189.559998</td>\n",
       "      <td>191.610001</td>\n",
       "      <td>186.175430</td>\n",
       "      <td>15989400</td>\n",
       "    </tr>\n",
       "    <tr>\n",
       "      <th>2018-07-24</th>\n",
       "      <td>192.449997</td>\n",
       "      <td>193.660004</td>\n",
       "      <td>192.050003</td>\n",
       "      <td>193.000000</td>\n",
       "      <td>187.526047</td>\n",
       "      <td>18697900</td>\n",
       "    </tr>\n",
       "    <tr>\n",
       "      <th>2018-07-25</th>\n",
       "      <td>193.059998</td>\n",
       "      <td>194.850006</td>\n",
       "      <td>192.429993</td>\n",
       "      <td>194.820007</td>\n",
       "      <td>189.294418</td>\n",
       "      <td>16709900</td>\n",
       "    </tr>\n",
       "    <tr>\n",
       "      <th>...</th>\n",
       "      <td>...</td>\n",
       "      <td>...</td>\n",
       "      <td>...</td>\n",
       "      <td>...</td>\n",
       "      <td>...</td>\n",
       "      <td>...</td>\n",
       "    </tr>\n",
       "    <tr>\n",
       "      <th>2019-12-23</th>\n",
       "      <td>280.529999</td>\n",
       "      <td>284.250000</td>\n",
       "      <td>280.369995</td>\n",
       "      <td>284.000000</td>\n",
       "      <td>282.054138</td>\n",
       "      <td>24643000</td>\n",
       "    </tr>\n",
       "    <tr>\n",
       "      <th>2019-12-24</th>\n",
       "      <td>284.690002</td>\n",
       "      <td>284.890015</td>\n",
       "      <td>282.920013</td>\n",
       "      <td>284.269989</td>\n",
       "      <td>282.322266</td>\n",
       "      <td>12119700</td>\n",
       "    </tr>\n",
       "    <tr>\n",
       "      <th>2019-12-26</th>\n",
       "      <td>284.820007</td>\n",
       "      <td>289.980011</td>\n",
       "      <td>284.700012</td>\n",
       "      <td>289.910004</td>\n",
       "      <td>287.923645</td>\n",
       "      <td>23280300</td>\n",
       "    </tr>\n",
       "    <tr>\n",
       "      <th>2019-12-27</th>\n",
       "      <td>291.119995</td>\n",
       "      <td>293.970001</td>\n",
       "      <td>288.119995</td>\n",
       "      <td>289.799988</td>\n",
       "      <td>287.814392</td>\n",
       "      <td>36566500</td>\n",
       "    </tr>\n",
       "    <tr>\n",
       "      <th>2019-12-30</th>\n",
       "      <td>289.459991</td>\n",
       "      <td>292.690002</td>\n",
       "      <td>285.220001</td>\n",
       "      <td>291.519989</td>\n",
       "      <td>289.522614</td>\n",
       "      <td>36028600</td>\n",
       "    </tr>\n",
       "  </tbody>\n",
       "</table>\n",
       "<p>365 rows × 6 columns</p>\n",
       "</div>"
      ],
      "text/plain": [
       "                  Open        High         Low       Close   Adj Close  \\\n",
       "Date                                                                     \n",
       "2018-07-19  189.690002  192.550003  189.690002  191.880005  186.437805   \n",
       "2018-07-20  191.779999  192.429993  190.169998  191.440002  186.010315   \n",
       "2018-07-23  190.679993  191.960007  189.559998  191.610001  186.175430   \n",
       "2018-07-24  192.449997  193.660004  192.050003  193.000000  187.526047   \n",
       "2018-07-25  193.059998  194.850006  192.429993  194.820007  189.294418   \n",
       "...                ...         ...         ...         ...         ...   \n",
       "2019-12-23  280.529999  284.250000  280.369995  284.000000  282.054138   \n",
       "2019-12-24  284.690002  284.890015  282.920013  284.269989  282.322266   \n",
       "2019-12-26  284.820007  289.980011  284.700012  289.910004  287.923645   \n",
       "2019-12-27  291.119995  293.970001  288.119995  289.799988  287.814392   \n",
       "2019-12-30  289.459991  292.690002  285.220001  291.519989  289.522614   \n",
       "\n",
       "              Volume  \n",
       "Date                  \n",
       "2018-07-19  20286800  \n",
       "2018-07-20  20676200  \n",
       "2018-07-23  15989400  \n",
       "2018-07-24  18697900  \n",
       "2018-07-25  16709900  \n",
       "...              ...  \n",
       "2019-12-23  24643000  \n",
       "2019-12-24  12119700  \n",
       "2019-12-26  23280300  \n",
       "2019-12-27  36566500  \n",
       "2019-12-30  36028600  \n",
       "\n",
       "[365 rows x 6 columns]"
      ]
     },
     "execution_count": 35,
     "metadata": {},
     "output_type": "execute_result"
    }
   ],
   "source": [
    "data.tail(365)"
   ]
  },
  {
   "cell_type": "code",
   "execution_count": 36,
   "id": "4eddd197",
   "metadata": {},
   "outputs": [
    {
     "data": {
      "text/html": [
       "<div>\n",
       "<style scoped>\n",
       "    .dataframe tbody tr th:only-of-type {\n",
       "        vertical-align: middle;\n",
       "    }\n",
       "\n",
       "    .dataframe tbody tr th {\n",
       "        vertical-align: top;\n",
       "    }\n",
       "\n",
       "    .dataframe thead th {\n",
       "        text-align: right;\n",
       "    }\n",
       "</style>\n",
       "<table border=\"1\" class=\"dataframe\">\n",
       "  <thead>\n",
       "    <tr style=\"text-align: right;\">\n",
       "      <th></th>\n",
       "      <th>Open</th>\n",
       "      <th>High</th>\n",
       "      <th>Low</th>\n",
       "      <th>Close</th>\n",
       "      <th>Adj Close</th>\n",
       "      <th>Volume</th>\n",
       "    </tr>\n",
       "    <tr>\n",
       "      <th>Date</th>\n",
       "      <th></th>\n",
       "      <th></th>\n",
       "      <th></th>\n",
       "      <th></th>\n",
       "      <th></th>\n",
       "      <th></th>\n",
       "    </tr>\n",
       "  </thead>\n",
       "  <tbody>\n",
       "    <tr>\n",
       "      <th>2012-01-03</th>\n",
       "      <td>58.485714</td>\n",
       "      <td>58.928570</td>\n",
       "      <td>58.428570</td>\n",
       "      <td>58.747143</td>\n",
       "      <td>50.765709</td>\n",
       "      <td>75555200</td>\n",
       "    </tr>\n",
       "    <tr>\n",
       "      <th>2012-01-04</th>\n",
       "      <td>58.571430</td>\n",
       "      <td>59.240002</td>\n",
       "      <td>58.468571</td>\n",
       "      <td>59.062859</td>\n",
       "      <td>51.038536</td>\n",
       "      <td>65005500</td>\n",
       "    </tr>\n",
       "    <tr>\n",
       "      <th>2012-01-05</th>\n",
       "      <td>59.278572</td>\n",
       "      <td>59.792858</td>\n",
       "      <td>58.952858</td>\n",
       "      <td>59.718571</td>\n",
       "      <td>51.605175</td>\n",
       "      <td>67817400</td>\n",
       "    </tr>\n",
       "    <tr>\n",
       "      <th>2012-01-06</th>\n",
       "      <td>59.967144</td>\n",
       "      <td>60.392857</td>\n",
       "      <td>59.888573</td>\n",
       "      <td>60.342857</td>\n",
       "      <td>52.144630</td>\n",
       "      <td>79573200</td>\n",
       "    </tr>\n",
       "    <tr>\n",
       "      <th>2012-01-09</th>\n",
       "      <td>60.785713</td>\n",
       "      <td>61.107143</td>\n",
       "      <td>60.192856</td>\n",
       "      <td>60.247143</td>\n",
       "      <td>52.061932</td>\n",
       "      <td>98506100</td>\n",
       "    </tr>\n",
       "    <tr>\n",
       "      <th>...</th>\n",
       "      <td>...</td>\n",
       "      <td>...</td>\n",
       "      <td>...</td>\n",
       "      <td>...</td>\n",
       "      <td>...</td>\n",
       "      <td>...</td>\n",
       "    </tr>\n",
       "    <tr>\n",
       "      <th>2019-12-23</th>\n",
       "      <td>280.529999</td>\n",
       "      <td>284.250000</td>\n",
       "      <td>280.369995</td>\n",
       "      <td>284.000000</td>\n",
       "      <td>282.054138</td>\n",
       "      <td>24643000</td>\n",
       "    </tr>\n",
       "    <tr>\n",
       "      <th>2019-12-24</th>\n",
       "      <td>284.690002</td>\n",
       "      <td>284.890015</td>\n",
       "      <td>282.920013</td>\n",
       "      <td>284.269989</td>\n",
       "      <td>282.322266</td>\n",
       "      <td>12119700</td>\n",
       "    </tr>\n",
       "    <tr>\n",
       "      <th>2019-12-26</th>\n",
       "      <td>284.820007</td>\n",
       "      <td>289.980011</td>\n",
       "      <td>284.700012</td>\n",
       "      <td>289.910004</td>\n",
       "      <td>287.923645</td>\n",
       "      <td>23280300</td>\n",
       "    </tr>\n",
       "    <tr>\n",
       "      <th>2019-12-27</th>\n",
       "      <td>291.119995</td>\n",
       "      <td>293.970001</td>\n",
       "      <td>288.119995</td>\n",
       "      <td>289.799988</td>\n",
       "      <td>287.814392</td>\n",
       "      <td>36566500</td>\n",
       "    </tr>\n",
       "    <tr>\n",
       "      <th>2019-12-30</th>\n",
       "      <td>289.459991</td>\n",
       "      <td>292.690002</td>\n",
       "      <td>285.220001</td>\n",
       "      <td>291.519989</td>\n",
       "      <td>289.522614</td>\n",
       "      <td>36028600</td>\n",
       "    </tr>\n",
       "  </tbody>\n",
       "</table>\n",
       "<p>2011 rows × 6 columns</p>\n",
       "</div>"
      ],
      "text/plain": [
       "                  Open        High         Low       Close   Adj Close  \\\n",
       "Date                                                                     \n",
       "2012-01-03   58.485714   58.928570   58.428570   58.747143   50.765709   \n",
       "2012-01-04   58.571430   59.240002   58.468571   59.062859   51.038536   \n",
       "2012-01-05   59.278572   59.792858   58.952858   59.718571   51.605175   \n",
       "2012-01-06   59.967144   60.392857   59.888573   60.342857   52.144630   \n",
       "2012-01-09   60.785713   61.107143   60.192856   60.247143   52.061932   \n",
       "...                ...         ...         ...         ...         ...   \n",
       "2019-12-23  280.529999  284.250000  280.369995  284.000000  282.054138   \n",
       "2019-12-24  284.690002  284.890015  282.920013  284.269989  282.322266   \n",
       "2019-12-26  284.820007  289.980011  284.700012  289.910004  287.923645   \n",
       "2019-12-27  291.119995  293.970001  288.119995  289.799988  287.814392   \n",
       "2019-12-30  289.459991  292.690002  285.220001  291.519989  289.522614   \n",
       "\n",
       "              Volume  \n",
       "Date                  \n",
       "2012-01-03  75555200  \n",
       "2012-01-04  65005500  \n",
       "2012-01-05  67817400  \n",
       "2012-01-06  79573200  \n",
       "2012-01-09  98506100  \n",
       "...              ...  \n",
       "2019-12-23  24643000  \n",
       "2019-12-24  12119700  \n",
       "2019-12-26  23280300  \n",
       "2019-12-27  36566500  \n",
       "2019-12-30  36028600  \n",
       "\n",
       "[2011 rows x 6 columns]"
      ]
     },
     "execution_count": 36,
     "metadata": {},
     "output_type": "execute_result"
    }
   ],
   "source": [
    "data"
   ]
  },
  {
   "cell_type": "code",
   "execution_count": 37,
   "id": "8a1bfd07",
   "metadata": {},
   "outputs": [
    {
     "data": {
      "application/javascript": [
       "\n",
       "        if (window._pyforest_update_imports_cell) { window._pyforest_update_imports_cell('import pandas as pd\\nimport matplotlib.pyplot as plt'); }\n",
       "    "
      ],
      "text/plain": [
       "<IPython.core.display.Javascript object>"
      ]
     },
     "metadata": {},
     "output_type": "display_data"
    },
    {
     "name": "stdout",
     "output_type": "stream",
     "text": [
      "Train set shape: (1759, 6)\n",
      "Test set shape: (252, 6)\n"
     ]
    }
   ],
   "source": [
    "# Determine train and test set boundaries\n",
    "total_data_points = len(data)\n",
    "test_set_boundary = data.index.max() - pd.DateOffset(years=1)  # Last year of data as test set boundary\n",
    "\n",
    "# Split data into train and test sets\n",
    "train_set = data.loc[data.index <= test_set_boundary]\n",
    "test_set = data.loc[data.index > test_set_boundary]\n",
    "\n",
    "# Optionally, reset the index if needed\n",
    "\n",
    "\n",
    "# Check the shapes of train and test sets\n",
    "print(\"Train set shape:\", train_set.shape)\n",
    "print(\"Test set shape:\", test_set.shape)\n"
   ]
  },
  {
   "cell_type": "code",
   "execution_count": 38,
   "id": "6837f8e2",
   "metadata": {},
   "outputs": [
    {
     "data": {
      "text/html": [
       "<div>\n",
       "<style scoped>\n",
       "    .dataframe tbody tr th:only-of-type {\n",
       "        vertical-align: middle;\n",
       "    }\n",
       "\n",
       "    .dataframe tbody tr th {\n",
       "        vertical-align: top;\n",
       "    }\n",
       "\n",
       "    .dataframe thead th {\n",
       "        text-align: right;\n",
       "    }\n",
       "</style>\n",
       "<table border=\"1\" class=\"dataframe\">\n",
       "  <thead>\n",
       "    <tr style=\"text-align: right;\">\n",
       "      <th></th>\n",
       "      <th>Open</th>\n",
       "      <th>High</th>\n",
       "      <th>Low</th>\n",
       "      <th>Close</th>\n",
       "      <th>Adj Close</th>\n",
       "      <th>Volume</th>\n",
       "    </tr>\n",
       "    <tr>\n",
       "      <th>Date</th>\n",
       "      <th></th>\n",
       "      <th></th>\n",
       "      <th></th>\n",
       "      <th></th>\n",
       "      <th></th>\n",
       "      <th></th>\n",
       "    </tr>\n",
       "  </thead>\n",
       "  <tbody>\n",
       "    <tr>\n",
       "      <th>2012-01-03</th>\n",
       "      <td>58.485714</td>\n",
       "      <td>58.928570</td>\n",
       "      <td>58.428570</td>\n",
       "      <td>58.747143</td>\n",
       "      <td>50.765709</td>\n",
       "      <td>75555200</td>\n",
       "    </tr>\n",
       "    <tr>\n",
       "      <th>2012-01-04</th>\n",
       "      <td>58.571430</td>\n",
       "      <td>59.240002</td>\n",
       "      <td>58.468571</td>\n",
       "      <td>59.062859</td>\n",
       "      <td>51.038536</td>\n",
       "      <td>65005500</td>\n",
       "    </tr>\n",
       "    <tr>\n",
       "      <th>2012-01-05</th>\n",
       "      <td>59.278572</td>\n",
       "      <td>59.792858</td>\n",
       "      <td>58.952858</td>\n",
       "      <td>59.718571</td>\n",
       "      <td>51.605175</td>\n",
       "      <td>67817400</td>\n",
       "    </tr>\n",
       "    <tr>\n",
       "      <th>2012-01-06</th>\n",
       "      <td>59.967144</td>\n",
       "      <td>60.392857</td>\n",
       "      <td>59.888573</td>\n",
       "      <td>60.342857</td>\n",
       "      <td>52.144630</td>\n",
       "      <td>79573200</td>\n",
       "    </tr>\n",
       "    <tr>\n",
       "      <th>2012-01-09</th>\n",
       "      <td>60.785713</td>\n",
       "      <td>61.107143</td>\n",
       "      <td>60.192856</td>\n",
       "      <td>60.247143</td>\n",
       "      <td>52.061932</td>\n",
       "      <td>98506100</td>\n",
       "    </tr>\n",
       "    <tr>\n",
       "      <th>...</th>\n",
       "      <td>...</td>\n",
       "      <td>...</td>\n",
       "      <td>...</td>\n",
       "      <td>...</td>\n",
       "      <td>...</td>\n",
       "      <td>...</td>\n",
       "    </tr>\n",
       "    <tr>\n",
       "      <th>2018-12-21</th>\n",
       "      <td>156.860001</td>\n",
       "      <td>158.160004</td>\n",
       "      <td>149.630005</td>\n",
       "      <td>150.729996</td>\n",
       "      <td>147.481339</td>\n",
       "      <td>95744600</td>\n",
       "    </tr>\n",
       "    <tr>\n",
       "      <th>2018-12-24</th>\n",
       "      <td>148.149994</td>\n",
       "      <td>151.550003</td>\n",
       "      <td>146.589996</td>\n",
       "      <td>146.830002</td>\n",
       "      <td>143.665421</td>\n",
       "      <td>37169200</td>\n",
       "    </tr>\n",
       "    <tr>\n",
       "      <th>2018-12-26</th>\n",
       "      <td>148.300003</td>\n",
       "      <td>157.229996</td>\n",
       "      <td>146.720001</td>\n",
       "      <td>157.169998</td>\n",
       "      <td>153.782547</td>\n",
       "      <td>58582500</td>\n",
       "    </tr>\n",
       "    <tr>\n",
       "      <th>2018-12-27</th>\n",
       "      <td>155.839996</td>\n",
       "      <td>156.770004</td>\n",
       "      <td>150.070007</td>\n",
       "      <td>156.149994</td>\n",
       "      <td>152.784531</td>\n",
       "      <td>53117100</td>\n",
       "    </tr>\n",
       "    <tr>\n",
       "      <th>2018-12-28</th>\n",
       "      <td>157.500000</td>\n",
       "      <td>158.520004</td>\n",
       "      <td>154.550003</td>\n",
       "      <td>156.229996</td>\n",
       "      <td>152.862808</td>\n",
       "      <td>42291400</td>\n",
       "    </tr>\n",
       "  </tbody>\n",
       "</table>\n",
       "<p>1759 rows × 6 columns</p>\n",
       "</div>"
      ],
      "text/plain": [
       "                  Open        High         Low       Close   Adj Close  \\\n",
       "Date                                                                     \n",
       "2012-01-03   58.485714   58.928570   58.428570   58.747143   50.765709   \n",
       "2012-01-04   58.571430   59.240002   58.468571   59.062859   51.038536   \n",
       "2012-01-05   59.278572   59.792858   58.952858   59.718571   51.605175   \n",
       "2012-01-06   59.967144   60.392857   59.888573   60.342857   52.144630   \n",
       "2012-01-09   60.785713   61.107143   60.192856   60.247143   52.061932   \n",
       "...                ...         ...         ...         ...         ...   \n",
       "2018-12-21  156.860001  158.160004  149.630005  150.729996  147.481339   \n",
       "2018-12-24  148.149994  151.550003  146.589996  146.830002  143.665421   \n",
       "2018-12-26  148.300003  157.229996  146.720001  157.169998  153.782547   \n",
       "2018-12-27  155.839996  156.770004  150.070007  156.149994  152.784531   \n",
       "2018-12-28  157.500000  158.520004  154.550003  156.229996  152.862808   \n",
       "\n",
       "              Volume  \n",
       "Date                  \n",
       "2012-01-03  75555200  \n",
       "2012-01-04  65005500  \n",
       "2012-01-05  67817400  \n",
       "2012-01-06  79573200  \n",
       "2012-01-09  98506100  \n",
       "...              ...  \n",
       "2018-12-21  95744600  \n",
       "2018-12-24  37169200  \n",
       "2018-12-26  58582500  \n",
       "2018-12-27  53117100  \n",
       "2018-12-28  42291400  \n",
       "\n",
       "[1759 rows x 6 columns]"
      ]
     },
     "execution_count": 38,
     "metadata": {},
     "output_type": "execute_result"
    }
   ],
   "source": [
    "train_set"
   ]
  },
  {
   "cell_type": "code",
   "execution_count": 39,
   "id": "703f543e",
   "metadata": {},
   "outputs": [
    {
     "data": {
      "text/html": [
       "<div>\n",
       "<style scoped>\n",
       "    .dataframe tbody tr th:only-of-type {\n",
       "        vertical-align: middle;\n",
       "    }\n",
       "\n",
       "    .dataframe tbody tr th {\n",
       "        vertical-align: top;\n",
       "    }\n",
       "\n",
       "    .dataframe thead th {\n",
       "        text-align: right;\n",
       "    }\n",
       "</style>\n",
       "<table border=\"1\" class=\"dataframe\">\n",
       "  <thead>\n",
       "    <tr style=\"text-align: right;\">\n",
       "      <th></th>\n",
       "      <th>Open</th>\n",
       "      <th>High</th>\n",
       "      <th>Low</th>\n",
       "      <th>Close</th>\n",
       "      <th>Adj Close</th>\n",
       "      <th>Volume</th>\n",
       "    </tr>\n",
       "    <tr>\n",
       "      <th>Date</th>\n",
       "      <th></th>\n",
       "      <th></th>\n",
       "      <th></th>\n",
       "      <th></th>\n",
       "      <th></th>\n",
       "      <th></th>\n",
       "    </tr>\n",
       "  </thead>\n",
       "  <tbody>\n",
       "    <tr>\n",
       "      <th>2012-01-03</th>\n",
       "      <td>58.485714</td>\n",
       "      <td>58.928570</td>\n",
       "      <td>58.428570</td>\n",
       "      <td>58.747143</td>\n",
       "      <td>50.765709</td>\n",
       "      <td>75555200</td>\n",
       "    </tr>\n",
       "    <tr>\n",
       "      <th>2012-01-04</th>\n",
       "      <td>58.571430</td>\n",
       "      <td>59.240002</td>\n",
       "      <td>58.468571</td>\n",
       "      <td>59.062859</td>\n",
       "      <td>51.038536</td>\n",
       "      <td>65005500</td>\n",
       "    </tr>\n",
       "    <tr>\n",
       "      <th>2012-01-05</th>\n",
       "      <td>59.278572</td>\n",
       "      <td>59.792858</td>\n",
       "      <td>58.952858</td>\n",
       "      <td>59.718571</td>\n",
       "      <td>51.605175</td>\n",
       "      <td>67817400</td>\n",
       "    </tr>\n",
       "    <tr>\n",
       "      <th>2012-01-06</th>\n",
       "      <td>59.967144</td>\n",
       "      <td>60.392857</td>\n",
       "      <td>59.888573</td>\n",
       "      <td>60.342857</td>\n",
       "      <td>52.144630</td>\n",
       "      <td>79573200</td>\n",
       "    </tr>\n",
       "    <tr>\n",
       "      <th>2012-01-09</th>\n",
       "      <td>60.785713</td>\n",
       "      <td>61.107143</td>\n",
       "      <td>60.192856</td>\n",
       "      <td>60.247143</td>\n",
       "      <td>52.061932</td>\n",
       "      <td>98506100</td>\n",
       "    </tr>\n",
       "    <tr>\n",
       "      <th>...</th>\n",
       "      <td>...</td>\n",
       "      <td>...</td>\n",
       "      <td>...</td>\n",
       "      <td>...</td>\n",
       "      <td>...</td>\n",
       "      <td>...</td>\n",
       "    </tr>\n",
       "    <tr>\n",
       "      <th>2018-12-21</th>\n",
       "      <td>156.860001</td>\n",
       "      <td>158.160004</td>\n",
       "      <td>149.630005</td>\n",
       "      <td>150.729996</td>\n",
       "      <td>147.481339</td>\n",
       "      <td>95744600</td>\n",
       "    </tr>\n",
       "    <tr>\n",
       "      <th>2018-12-24</th>\n",
       "      <td>148.149994</td>\n",
       "      <td>151.550003</td>\n",
       "      <td>146.589996</td>\n",
       "      <td>146.830002</td>\n",
       "      <td>143.665421</td>\n",
       "      <td>37169200</td>\n",
       "    </tr>\n",
       "    <tr>\n",
       "      <th>2018-12-26</th>\n",
       "      <td>148.300003</td>\n",
       "      <td>157.229996</td>\n",
       "      <td>146.720001</td>\n",
       "      <td>157.169998</td>\n",
       "      <td>153.782547</td>\n",
       "      <td>58582500</td>\n",
       "    </tr>\n",
       "    <tr>\n",
       "      <th>2018-12-27</th>\n",
       "      <td>155.839996</td>\n",
       "      <td>156.770004</td>\n",
       "      <td>150.070007</td>\n",
       "      <td>156.149994</td>\n",
       "      <td>152.784531</td>\n",
       "      <td>53117100</td>\n",
       "    </tr>\n",
       "    <tr>\n",
       "      <th>2018-12-28</th>\n",
       "      <td>157.500000</td>\n",
       "      <td>158.520004</td>\n",
       "      <td>154.550003</td>\n",
       "      <td>156.229996</td>\n",
       "      <td>152.862808</td>\n",
       "      <td>42291400</td>\n",
       "    </tr>\n",
       "  </tbody>\n",
       "</table>\n",
       "<p>1759 rows × 6 columns</p>\n",
       "</div>"
      ],
      "text/plain": [
       "                  Open        High         Low       Close   Adj Close  \\\n",
       "Date                                                                     \n",
       "2012-01-03   58.485714   58.928570   58.428570   58.747143   50.765709   \n",
       "2012-01-04   58.571430   59.240002   58.468571   59.062859   51.038536   \n",
       "2012-01-05   59.278572   59.792858   58.952858   59.718571   51.605175   \n",
       "2012-01-06   59.967144   60.392857   59.888573   60.342857   52.144630   \n",
       "2012-01-09   60.785713   61.107143   60.192856   60.247143   52.061932   \n",
       "...                ...         ...         ...         ...         ...   \n",
       "2018-12-21  156.860001  158.160004  149.630005  150.729996  147.481339   \n",
       "2018-12-24  148.149994  151.550003  146.589996  146.830002  143.665421   \n",
       "2018-12-26  148.300003  157.229996  146.720001  157.169998  153.782547   \n",
       "2018-12-27  155.839996  156.770004  150.070007  156.149994  152.784531   \n",
       "2018-12-28  157.500000  158.520004  154.550003  156.229996  152.862808   \n",
       "\n",
       "              Volume  \n",
       "Date                  \n",
       "2012-01-03  75555200  \n",
       "2012-01-04  65005500  \n",
       "2012-01-05  67817400  \n",
       "2012-01-06  79573200  \n",
       "2012-01-09  98506100  \n",
       "...              ...  \n",
       "2018-12-21  95744600  \n",
       "2018-12-24  37169200  \n",
       "2018-12-26  58582500  \n",
       "2018-12-27  53117100  \n",
       "2018-12-28  42291400  \n",
       "\n",
       "[1759 rows x 6 columns]"
      ]
     },
     "execution_count": 39,
     "metadata": {},
     "output_type": "execute_result"
    }
   ],
   "source": [
    "train_set"
   ]
  },
  {
   "cell_type": "markdown",
   "id": "9c08840f",
   "metadata": {},
   "source": [
    "## Log transformation and Differencing for train and test dataset"
   ]
  },
  {
   "cell_type": "code",
   "execution_count": 40,
   "id": "bcb74494",
   "metadata": {},
   "outputs": [
    {
     "data": {
      "application/javascript": [
       "\n",
       "        if (window._pyforest_update_imports_cell) { window._pyforest_update_imports_cell('import numpy as np\\nimport pandas as pd\\nimport matplotlib.pyplot as plt'); }\n",
       "    "
      ],
      "text/plain": [
       "<IPython.core.display.Javascript object>"
      ]
     },
     "metadata": {},
     "output_type": "display_data"
    },
    {
     "data": {
      "text/plain": [
       "<AxesSubplot:xlabel='Date'>"
      ]
     },
     "execution_count": 40,
     "metadata": {},
     "output_type": "execute_result"
    },
    {
     "data": {
      "image/png": "[encoded data removed]",
      "text/plain": [
       "<Figure size 432x288 with 1 Axes>"
      ]
     },
     "metadata": {
      "needs_background": "light"
     },
     "output_type": "display_data"
    }
   ],
   "source": [
    "\n",
    "data_log_tr= np.log(train_set['Close'])\n",
    "data_log_diff_tr=data_log_tr- data_log_tr.shift()\n",
    "data_log_diff_tr.dropna().plot()"
   ]
  },
  {
   "cell_type": "code",
   "execution_count": 41,
   "id": "62b57888",
   "metadata": {},
   "outputs": [
    {
     "data": {
      "application/javascript": [
       "\n",
       "        if (window._pyforest_update_imports_cell) { window._pyforest_update_imports_cell('import numpy as np\\nimport pandas as pd\\nimport matplotlib.pyplot as plt'); }\n",
       "    "
      ],
      "text/plain": [
       "<IPython.core.display.Javascript object>"
      ]
     },
     "metadata": {},
     "output_type": "display_data"
    },
    {
     "data": {
      "text/plain": [
       "<AxesSubplot:xlabel='Date'>"
      ]
     },
     "execution_count": 41,
     "metadata": {},
     "output_type": "execute_result"
    },
    {
     "data": {
      "image/png": "[encoded data removed]",
      "text/plain": [
       "<Figure size 432x288 with 1 Axes>"
      ]
     },
     "metadata": {
      "needs_background": "light"
     },
     "output_type": "display_data"
    }
   ],
   "source": [
    "\n",
    "data_log_te= np.log(test_set['Close'])\n",
    "data_log_diff_te=data_log_te- data_log_te.shift()\n",
    "data_log_diff_te.dropna().plot()"
   ]
  },
  {
   "cell_type": "code",
   "execution_count": 42,
   "id": "5422deb0",
   "metadata": {},
   "outputs": [],
   "source": [
    "data_transformed=data_log_diff_tr.dropna()"
   ]
  },
  {
   "cell_type": "markdown",
   "id": "bd950600",
   "metadata": {},
   "source": [
    "## ADF testing for checking the stationarity after transformation"
   ]
  },
  {
   "cell_type": "code",
   "execution_count": 43,
   "id": "ab2dca80",
   "metadata": {},
   "outputs": [
    {
     "name": "stdout",
     "output_type": "stream",
     "text": [
      "Test Statistic: -14.937510\n",
      "p-value: 0.000000\n",
      "Critical values:\n",
      "\t1%: -3.434\n",
      "\t5%: -2.863\n",
      "\t10%: -2.568\n"
     ]
    }
   ],
   "source": [
    "result=adfuller (data_transformed)\n",
    "print('Test Statistic: %f' %result[0])\n",
    "print('p-value: %f' %result[1])\n",
    "print('Critical values:')\n",
    "for key, value in result[4].items ():\n",
    "     print('\\t%s: %.3f' %(key, value))"
   ]
  },
  {
   "cell_type": "code",
   "execution_count": 44,
   "id": "3e35d29e",
   "metadata": {},
   "outputs": [
    {
     "data": {
      "text/plain": [
       "Date\n",
       "2012-01-04    0.005360\n",
       "2012-01-05    0.011041\n",
       "2012-01-06    0.010400\n",
       "2012-01-09   -0.001587\n",
       "2012-01-10    0.003574\n",
       "                ...   \n",
       "2018-12-21   -0.039672\n",
       "2018-12-24   -0.026215\n",
       "2018-12-26    0.068053\n",
       "2018-12-27   -0.006511\n",
       "2018-12-28    0.000512\n",
       "Name: Close, Length: 1758, dtype: float64"
      ]
     },
     "execution_count": 44,
     "metadata": {},
     "output_type": "execute_result"
    }
   ],
   "source": [
    "data_transformed"
   ]
  },
  {
   "cell_type": "markdown",
   "id": "62531dbc",
   "metadata": {},
   "source": [
    "## ACF and PACF\n",
    "ACF and PACF plots are used to understand the correaltion of the series with it's own lags"
   ]
  },
  {
   "cell_type": "markdown",
   "id": "3548a2a8",
   "metadata": {},
   "source": [
    "### ACF\n",
    "1. ACF is the correlation of observation of current time spot and a previous time spot. For eg. T vs T-1 or T vs T-2. \n",
    "2. It gives the correaltion of any series with it's lagged values\n",
    "3. To figure out the order of an MA model, you would use the ACF.\n"
   ]
  },
  {
   "cell_type": "markdown",
   "id": "f8622da9",
   "metadata": {},
   "source": [
    "### PACF\n",
    "1. PACF explains the partial correlation between the series and a particular lag only i.e. the infleunce of a lag on the current observation after eliminating the influence of other lags.\n",
    "2. To figure out the order of an AR model, you would use the PACF.\n",
    "\n",
    "\n"
   ]
  },
  {
   "cell_type": "markdown",
   "id": "680271e9",
   "metadata": {},
   "source": [
    "## Significance of ACF and PACF plots\n",
    "1. We find optimum features or order of the MA process using the ACF plot.\n",
    "2. As ACF takes into consideration all the lagged values in the time series, there can be several spikes above the confidence interval which may give rise to the problem of multi-collinearity. So to avoid that we bring in the PACF plot.\n",
    "3. PACF plot removes variations explained by earlier lags so we get only the relevant features. This removes the noise and it helps in avoiding the multicollinearity problem."
   ]
  },
  {
   "cell_type": "markdown",
   "id": "a37056d1",
   "metadata": {},
   "source": [
    "## ACF and PACF plots for Apple Stock Prices Dataset"
   ]
  },
  {
   "cell_type": "markdown",
   "id": "b8c1e632",
   "metadata": {},
   "source": [
    "## Significance of ACF and PACF plots\n",
    "1. We find optimum features or order of the MA process using the ACF plot.\n",
    "2. As ACF takes into consideration all the lagged values in the time series, there can be several spikes above the confidence interval which may give rise to the problem of multi-collinearity. So to avoid that we bring in the PACF plot.\n",
    "3. PACF plot removes variations explained by earlier lags so we get only the relevant features. This removes the noise and it helps in avoiding the multicollinearity problem."
   ]
  },
  {
   "cell_type": "markdown",
   "id": "b133b023",
   "metadata": {},
   "source": [
    "## Interpretting the ACF and PACF plots.\n",
    "We need to interprete the ACF and PACF plots in order to find out the order for the model that we will be building"
   ]
  },
  {
   "cell_type": "markdown",
   "id": "d2b63527",
   "metadata": {},
   "source": [
    "## Let's look at our options:\n",
    "### 1. AR: \n",
    "An Auto Regressive (AR) model is one where Yt depends only on its own lags.\n",
    "### 2. MA:\n",
    "A Moving Average (MA) model is one where Yt depends only on the lagged forecast errors.\n",
    "### 3. ARIMA\n",
    "An ARIMA model is one where the time series was differenced at least once to make it stationary and we combine the AR and the MA terms.\n",
    "### We will be choosing ARIMA for the Apple Stock Prices Forecast\n",
    "\n",
    "\n"
   ]
  },
  {
   "cell_type": "markdown",
   "id": "2e19a374",
   "metadata": {},
   "source": [
    "## Why Arima\n",
    "ARIMA models are widely used for real life time series analysis since most times series data are non stationary and need differencing. As we have already seen from above, our data is non-stationary and we have done differencing once to make it stationary. Hence, we will be using ARIMA model and check if it's working"
   ]
  },
  {
   "cell_type": "markdown",
   "id": "f9fbd299",
   "metadata": {},
   "source": [
    "## ARIMA Terminologies\n",
    "p,d,q help in finding out the order of ARIMA model that we will be using while fitting the data\n",
    "1. p: Number of autoregressive terms, \n",
    "2. d: Number of nonseasonal differences needed for stationarity, \n",
    "3. q: Number of lagged forecast errors in the prediction equation"
   ]
  },
  {
   "cell_type": "code",
   "execution_count": 45,
   "id": "4ff86b8e",
   "metadata": {
    "scrolled": true
   },
   "outputs": [
    {
     "data": {
      "image/png": "[encoded data removed]",
      "text/plain": [
       "<Figure size 432x288 with 1 Axes>"
      ]
     },
     "metadata": {
      "needs_background": "light"
     },
     "output_type": "display_data"
    }
   ],
   "source": [
    "import statsmodels.graphics.tsaplots as tsa_plots\n",
    "tsa_plots.plot_acf(data_log_diff_tr.dropna(),lags=15)\n",
    "#tsa_plots.plot_pacf(data.Close,lags=20)\n",
    "plt.show()"
   ]
  },
  {
   "cell_type": "markdown",
   "id": "9d95d61c",
   "metadata": {},
   "source": [
    "#### This is the ACF plot for the transformed data. As we can see the firsy line is crossing and coming out of the confidence interval. Thus only the lag of 1 days is relevant and hence the order is 1. That is, q=1"
   ]
  },
  {
   "cell_type": "code",
   "execution_count": 46,
   "id": "bbafd39b",
   "metadata": {
    "scrolled": true
   },
   "outputs": [
    {
     "data": {
      "image/png": "[encoded data removed]",
      "text/plain": [
       "<Figure size 432x288 with 1 Axes>"
      ]
     },
     "metadata": {
      "needs_background": "light"
     },
     "output_type": "display_data"
    }
   ],
   "source": [
    "tsa_plots.plot_pacf(data_log_diff_tr.dropna(),lags=15)\n",
    "plt.show()"
   ]
  },
  {
   "cell_type": "markdown",
   "id": "c7519582",
   "metadata": {},
   "source": [
    "#### This is the PACF plot for the transformed data. As we can see the first line is crossing and coming out of the confidence interval. Thus only till lag 1 we have to consider and hence the order is 1. That is, p=1"
   ]
  },
  {
   "cell_type": "markdown",
   "id": "f8c9a292",
   "metadata": {},
   "source": [
    "#### As we have done the differencing only once, d=1"
   ]
  },
  {
   "cell_type": "markdown",
   "id": "c7da9e68",
   "metadata": {},
   "source": [
    "## Model Building\n",
    "## Method: ARIMA"
   ]
  },
  {
   "cell_type": "code",
   "execution_count": 47,
   "id": "3ab8d7f9",
   "metadata": {},
   "outputs": [],
   "source": [
    "from statsmodels.tsa.arima_model import ARIMA\n",
    "from statsmodels.tsa.arima.model import ARIMA\n"
   ]
  },
  {
   "cell_type": "markdown",
   "id": "e09321c7",
   "metadata": {},
   "source": [
    "## ARIMA Model for trained dataset for daily stock prices"
   ]
  },
  {
   "cell_type": "markdown",
   "id": "eb25a5e8",
   "metadata": {},
   "source": [
    "From the PACF and ACF plots shown above, we should take p,d,q as 1,1,1 respectively. But we are also trying to do some variations in the values of p and q to get a better and more accurate result."
   ]
  },
  {
   "cell_type": "markdown",
   "id": "215471d9",
   "metadata": {},
   "source": [
    "We will be comparing the p-values of AR,MA and sigma models along with the AIC and BIC values"
   ]
  },
  {
   "cell_type": "code",
   "execution_count": 48,
   "id": "f3dca040",
   "metadata": {},
   "outputs": [],
   "source": [
    "train_set.drop(['Open','High','Low','Adj Close','Volume'], inplace=True, axis=1)"
   ]
  },
  {
   "cell_type": "code",
   "execution_count": 49,
   "id": "5e4a85ef",
   "metadata": {},
   "outputs": [],
   "source": [
    "test_set.drop(['Open','High','Low','Adj Close','Volume'], inplace=True, axis=1)"
   ]
  },
  {
   "cell_type": "markdown",
   "id": "b92e3ac7",
   "metadata": {},
   "source": [
    "## Model 1, Order (1,1,1)"
   ]
  },
  {
   "cell_type": "code",
   "execution_count": 50,
   "id": "560529cb",
   "metadata": {},
   "outputs": [
    {
     "name": "stderr",
     "output_type": "stream",
     "text": [
      "C:\\Users\\Anup sharma\\anaconda\\lib\\site-packages\\statsmodels\\tsa\\base\\tsa_model.py:471: ValueWarning: A date index has been provided, but it has no associated frequency information and so will be ignored when e.g. forecasting.\n",
      "  self._init_dates(dates, freq)\n",
      "C:\\Users\\Anup sharma\\anaconda\\lib\\site-packages\\statsmodels\\tsa\\base\\tsa_model.py:471: ValueWarning: A date index has been provided, but it has no associated frequency information and so will be ignored when e.g. forecasting.\n",
      "  self._init_dates(dates, freq)\n",
      "C:\\Users\\Anup sharma\\anaconda\\lib\\site-packages\\statsmodels\\tsa\\base\\tsa_model.py:471: ValueWarning: A date index has been provided, but it has no associated frequency information and so will be ignored when e.g. forecasting.\n",
      "  self._init_dates(dates, freq)\n"
     ]
    }
   ],
   "source": [
    "model=ARIMA(train_set,order=(1,1,1))"
   ]
  },
  {
   "cell_type": "code",
   "execution_count": 51,
   "id": "a04a2c72",
   "metadata": {},
   "outputs": [],
   "source": [
    "model_fit=model.fit()"
   ]
  },
  {
   "cell_type": "code",
   "execution_count": 52,
   "id": "40e0d830",
   "metadata": {},
   "outputs": [
    {
     "data": {
      "text/html": [
       "<table class=\"simpletable\">\n",
       "<caption>SARIMAX Results</caption>\n",
       "<tr>\n",
       "  <th>Dep. Variable:</th>         <td>Close</td>      <th>  No. Observations:  </th>   <td>1759</td>   \n",
       "</tr>\n",
       "<tr>\n",
       "  <th>Model:</th>            <td>ARIMA(1, 1, 1)</td>  <th>  Log Likelihood     </th> <td>-3638.019</td>\n",
       "</tr>\n",
       "<tr>\n",
       "  <th>Date:</th>            <td>Wed, 17 May 2023</td> <th>  AIC                </th> <td>7282.037</td> \n",
       "</tr>\n",
       "<tr>\n",
       "  <th>Time:</th>                <td>08:10:10</td>     <th>  BIC                </th> <td>7298.453</td> \n",
       "</tr>\n",
       "<tr>\n",
       "  <th>Sample:</th>                  <td>0</td>        <th>  HQIC               </th> <td>7288.104</td> \n",
       "</tr>\n",
       "<tr>\n",
       "  <th></th>                      <td> - 1759</td>     <th>                     </th>     <td> </td>    \n",
       "</tr>\n",
       "<tr>\n",
       "  <th>Covariance Type:</th>        <td>opg</td>       <th>                     </th>     <td> </td>    \n",
       "</tr>\n",
       "</table>\n",
       "<table class=\"simpletable\">\n",
       "<tr>\n",
       "     <td></td>       <th>coef</th>     <th>std err</th>      <th>z</th>      <th>P>|z|</th>  <th>[0.025</th>    <th>0.975]</th>  \n",
       "</tr>\n",
       "<tr>\n",
       "  <th>ar.L1</th>  <td>   -0.8094</td> <td>    0.115</td> <td>   -7.036</td> <td> 0.000</td> <td>   -1.035</td> <td>   -0.584</td>\n",
       "</tr>\n",
       "<tr>\n",
       "  <th>ma.L1</th>  <td>    0.8364</td> <td>    0.107</td> <td>    7.814</td> <td> 0.000</td> <td>    0.627</td> <td>    1.046</td>\n",
       "</tr>\n",
       "<tr>\n",
       "  <th>sigma2</th> <td>    3.6727</td> <td>    0.062</td> <td>   59.619</td> <td> 0.000</td> <td>    3.552</td> <td>    3.793</td>\n",
       "</tr>\n",
       "</table>\n",
       "<table class=\"simpletable\">\n",
       "<tr>\n",
       "  <th>Ljung-Box (L1) (Q):</th>     <td>0.05</td> <th>  Jarque-Bera (JB):  </th> <td>3063.80</td>\n",
       "</tr>\n",
       "<tr>\n",
       "  <th>Prob(Q):</th>                <td>0.82</td> <th>  Prob(JB):          </th>  <td>0.00</td>  \n",
       "</tr>\n",
       "<tr>\n",
       "  <th>Heteroskedasticity (H):</th> <td>3.41</td> <th>  Skew:              </th>  <td>-0.39</td> \n",
       "</tr>\n",
       "<tr>\n",
       "  <th>Prob(H) (two-sided):</th>    <td>0.00</td> <th>  Kurtosis:          </th>  <td>9.42</td>  \n",
       "</tr>\n",
       "</table><br/><br/>Warnings:<br/>[1] Covariance matrix calculated using the outer product of gradients (complex-step)."
      ],
      "text/plain": [
       "<class 'statsmodels.iolib.summary.Summary'>\n",
       "\"\"\"\n",
       "                               SARIMAX Results                                \n",
       "==============================================================================\n",
       "Dep. Variable:                  Close   No. Observations:                 1759\n",
       "Model:                 ARIMA(1, 1, 1)   Log Likelihood               -3638.019\n",
       "Date:                Wed, 17 May 2023   AIC                           7282.037\n",
       "Time:                        08:10:10   BIC                           7298.453\n",
       "Sample:                             0   HQIC                          7288.104\n",
       "                               - 1759                                         \n",
       "Covariance Type:                  opg                                         \n",
       "==============================================================================\n",
       "                 coef    std err          z      P>|z|      [0.025      0.975]\n",
       "------------------------------------------------------------------------------\n",
       "ar.L1         -0.8094      0.115     -7.036      0.000      -1.035      -0.584\n",
       "ma.L1          0.8364      0.107      7.814      0.000       0.627       1.046\n",
       "sigma2         3.6727      0.062     59.619      0.000       3.552       3.793\n",
       "===================================================================================\n",
       "Ljung-Box (L1) (Q):                   0.05   Jarque-Bera (JB):              3063.80\n",
       "Prob(Q):                              0.82   Prob(JB):                         0.00\n",
       "Heteroskedasticity (H):               3.41   Skew:                            -0.39\n",
       "Prob(H) (two-sided):                  0.00   Kurtosis:                         9.42\n",
       "===================================================================================\n",
       "\n",
       "Warnings:\n",
       "[1] Covariance matrix calculated using the outer product of gradients (complex-step).\n",
       "\"\"\""
      ]
     },
     "execution_count": 52,
     "metadata": {},
     "output_type": "execute_result"
    }
   ],
   "source": [
    "model_fit.summary()"
   ]
  },
  {
   "cell_type": "code",
   "execution_count": 53,
   "id": "6db202f4",
   "metadata": {},
   "outputs": [
    {
     "data": {
      "text/plain": [
       "Date\n",
       "2012-01-03      0.000000\n",
       "2012-01-04     58.747148\n",
       "2012-01-05     59.070839\n",
       "2012-01-06     59.728839\n",
       "2012-01-09     60.350631\n",
       "                 ...    \n",
       "2018-12-21    156.875188\n",
       "2018-12-24    150.527129\n",
       "2018-12-26    146.894146\n",
       "2018-12-27    157.396158\n",
       "2018-12-28    155.933227\n",
       "Length: 1759, dtype: float64"
      ]
     },
     "execution_count": 53,
     "metadata": {},
     "output_type": "execute_result"
    }
   ],
   "source": [
    "model_fit.fittedvalues"
   ]
  },
  {
   "cell_type": "code",
   "execution_count": 54,
   "id": "c643a05c",
   "metadata": {
    "scrolled": true
   },
   "outputs": [
    {
     "data": {
      "text/html": [
       "<div>\n",
       "<style scoped>\n",
       "    .dataframe tbody tr th:only-of-type {\n",
       "        vertical-align: middle;\n",
       "    }\n",
       "\n",
       "    .dataframe tbody tr th {\n",
       "        vertical-align: top;\n",
       "    }\n",
       "\n",
       "    .dataframe thead th {\n",
       "        text-align: right;\n",
       "    }\n",
       "</style>\n",
       "<table border=\"1\" class=\"dataframe\">\n",
       "  <thead>\n",
       "    <tr style=\"text-align: right;\">\n",
       "      <th></th>\n",
       "      <th>Close</th>\n",
       "    </tr>\n",
       "    <tr>\n",
       "      <th>Date</th>\n",
       "      <th></th>\n",
       "    </tr>\n",
       "  </thead>\n",
       "  <tbody>\n",
       "    <tr>\n",
       "      <th>2012-01-03</th>\n",
       "      <td>58.747143</td>\n",
       "    </tr>\n",
       "    <tr>\n",
       "      <th>2012-01-04</th>\n",
       "      <td>59.062859</td>\n",
       "    </tr>\n",
       "    <tr>\n",
       "      <th>2012-01-05</th>\n",
       "      <td>59.718571</td>\n",
       "    </tr>\n",
       "    <tr>\n",
       "      <th>2012-01-06</th>\n",
       "      <td>60.342857</td>\n",
       "    </tr>\n",
       "    <tr>\n",
       "      <th>2012-01-09</th>\n",
       "      <td>60.247143</td>\n",
       "    </tr>\n",
       "    <tr>\n",
       "      <th>...</th>\n",
       "      <td>...</td>\n",
       "    </tr>\n",
       "    <tr>\n",
       "      <th>2018-12-21</th>\n",
       "      <td>150.729996</td>\n",
       "    </tr>\n",
       "    <tr>\n",
       "      <th>2018-12-24</th>\n",
       "      <td>146.830002</td>\n",
       "    </tr>\n",
       "    <tr>\n",
       "      <th>2018-12-26</th>\n",
       "      <td>157.169998</td>\n",
       "    </tr>\n",
       "    <tr>\n",
       "      <th>2018-12-27</th>\n",
       "      <td>156.149994</td>\n",
       "    </tr>\n",
       "    <tr>\n",
       "      <th>2018-12-28</th>\n",
       "      <td>156.229996</td>\n",
       "    </tr>\n",
       "  </tbody>\n",
       "</table>\n",
       "<p>1759 rows × 1 columns</p>\n",
       "</div>"
      ],
      "text/plain": [
       "                 Close\n",
       "Date                  \n",
       "2012-01-03   58.747143\n",
       "2012-01-04   59.062859\n",
       "2012-01-05   59.718571\n",
       "2012-01-06   60.342857\n",
       "2012-01-09   60.247143\n",
       "...                ...\n",
       "2018-12-21  150.729996\n",
       "2018-12-24  146.830002\n",
       "2018-12-26  157.169998\n",
       "2018-12-27  156.149994\n",
       "2018-12-28  156.229996\n",
       "\n",
       "[1759 rows x 1 columns]"
      ]
     },
     "execution_count": 54,
     "metadata": {},
     "output_type": "execute_result"
    }
   ],
   "source": [
    "train_set"
   ]
  },
  {
   "cell_type": "code",
   "execution_count": 55,
   "id": "f6b557e4",
   "metadata": {},
   "outputs": [
    {
     "data": {
      "text/plain": [
       "1759"
      ]
     },
     "execution_count": 55,
     "metadata": {},
     "output_type": "execute_result"
    }
   ],
   "source": [
    "len(train_set)"
   ]
  },
  {
   "cell_type": "code",
   "execution_count": 56,
   "id": "b3377411",
   "metadata": {},
   "outputs": [
    {
     "data": {
      "text/plain": [
       "252"
      ]
     },
     "execution_count": 56,
     "metadata": {},
     "output_type": "execute_result"
    }
   ],
   "source": [
    "len(test_set)"
   ]
  },
  {
   "cell_type": "code",
   "execution_count": 57,
   "id": "8648034e",
   "metadata": {
    "scrolled": true
   },
   "outputs": [
    {
     "name": "stderr",
     "output_type": "stream",
     "text": [
      "C:\\Users\\Anup sharma\\anaconda\\lib\\site-packages\\statsmodels\\tsa\\base\\tsa_model.py:834: ValueWarning: No supported index is available. Prediction results will be given with an integer index beginning at `start`.\n",
      "  return get_prediction_index(\n"
     ]
    }
   ],
   "source": [
    "predicted = model_fit.predict(start=len(train_set), end=len(train_set)+len(test_set)-1, type='levels')\n",
    "predicted.index=test_set.index\n"
   ]
  },
  {
   "cell_type": "code",
   "execution_count": 58,
   "id": "b68405ee",
   "metadata": {
    "scrolled": true
   },
   "outputs": [
    {
     "data": {
      "text/plain": [
       "Date\n",
       "2018-12-31    156.413469\n",
       "2019-01-02    156.264974\n",
       "2019-01-03    156.385160\n",
       "2019-01-04    156.287886\n",
       "2019-01-07    156.366615\n",
       "                 ...    \n",
       "2019-12-23    156.331398\n",
       "2019-12-24    156.331398\n",
       "2019-12-26    156.331398\n",
       "2019-12-27    156.331398\n",
       "2019-12-30    156.331398\n",
       "Name: predicted_mean, Length: 252, dtype: float64"
      ]
     },
     "execution_count": 58,
     "metadata": {},
     "output_type": "execute_result"
    }
   ],
   "source": [
    "predicted"
   ]
  },
  {
   "cell_type": "code",
   "execution_count": 59,
   "id": "688d9a76",
   "metadata": {
    "scrolled": true
   },
   "outputs": [
    {
     "data": {
      "application/javascript": [
       "\n",
       "        if (window._pyforest_update_imports_cell) { window._pyforest_update_imports_cell('import numpy as np\\nimport pandas as pd\\nimport matplotlib.pyplot as plt'); }\n",
       "    "
      ],
      "text/plain": [
       "<IPython.core.display.Javascript object>"
      ]
     },
     "metadata": {},
     "output_type": "display_data"
    },
    {
     "data": {
      "application/javascript": [
       "\n",
       "        if (window._pyforest_update_imports_cell) { window._pyforest_update_imports_cell('import numpy as np\\nimport pandas as pd\\nimport matplotlib.pyplot as plt'); }\n",
       "    "
      ],
      "text/plain": [
       "<IPython.core.display.Javascript object>"
      ]
     },
     "metadata": {},
     "output_type": "display_data"
    }
   ],
   "source": [
    "rmse = np.sqrt(np.mean((predicted - test_set['Close'].values)**2))"
   ]
  },
  {
   "cell_type": "code",
   "execution_count": 60,
   "id": "8b8a111c",
   "metadata": {},
   "outputs": [
    {
     "data": {
      "text/plain": [
       "61.721568310036545"
      ]
     },
     "execution_count": 60,
     "metadata": {},
     "output_type": "execute_result"
    }
   ],
   "source": [
    "rmse"
   ]
  },
  {
   "cell_type": "code",
   "execution_count": 61,
   "id": "4d4b5994",
   "metadata": {
    "scrolled": false
   },
   "outputs": [
    {
     "data": {
      "image/png": "[encoded data removed]",
      "text/plain": [
       "<Figure size 432x288 with 1 Axes>"
      ]
     },
     "metadata": {
      "needs_background": "light"
     },
     "output_type": "display_data"
    }
   ],
   "source": [
    "plt.plot(train_set['Close'], label='Train')\n",
    "plt.plot(test_set['Close'], label='Test')\n",
    "plt.plot(test_set.index, predicted, label='Predicted')\n",
    "plt.title(f'ARIMA Model (RMSE: {rmse:.2f})')\n",
    "plt.legend()\n",
    "plt.show()"
   ]
  },
  {
   "cell_type": "markdown",
   "id": "c6164d04",
   "metadata": {},
   "source": [
    " As we can se from the above plot, we are getting a constant straight line for the predicted values. This is due to the presence of seasonality. To overcome this we will have to use the Seasonal ARIMA (SARIMAX) model. Hence we will not be considering ARIMA Model"
   ]
  },
  {
   "cell_type": "markdown",
   "id": "780d4c7a",
   "metadata": {},
   "source": [
    "## Model 2: SARIMAX"
   ]
  },
  {
   "cell_type": "code",
   "execution_count": 62,
   "id": "95ab19d1",
   "metadata": {},
   "outputs": [],
   "source": [
    "import statsmodels.api as sm"
   ]
  },
  {
   "cell_type": "code",
   "execution_count": 63,
   "id": "ba94483c",
   "metadata": {},
   "outputs": [
    {
     "name": "stderr",
     "output_type": "stream",
     "text": [
      "C:\\Users\\Anup sharma\\anaconda\\lib\\site-packages\\statsmodels\\tsa\\base\\tsa_model.py:471: ValueWarning: A date index has been provided, but it has no associated frequency information and so will be ignored when e.g. forecasting.\n",
      "  self._init_dates(dates, freq)\n",
      "C:\\Users\\Anup sharma\\anaconda\\lib\\site-packages\\statsmodels\\tsa\\base\\tsa_model.py:471: ValueWarning: A date index has been provided, but it has no associated frequency information and so will be ignored when e.g. forecasting.\n",
      "  self._init_dates(dates, freq)\n"
     ]
    },
    {
     "data": {
      "text/html": [
       "<table class=\"simpletable\">\n",
       "<caption>SARIMAX Results</caption>\n",
       "<tr>\n",
       "  <th>Dep. Variable:</th>                 <td>Close</td>              <th>  No. Observations:  </th>   <td>1759</td>   \n",
       "</tr>\n",
       "<tr>\n",
       "  <th>Model:</th>           <td>SARIMAX(2, 1, 0)x(1, 1, [1], 66)</td> <th>  Log Likelihood     </th> <td>-3618.250</td>\n",
       "</tr>\n",
       "<tr>\n",
       "  <th>Date:</th>                    <td>Wed, 17 May 2023</td>         <th>  AIC                </th> <td>7246.501</td> \n",
       "</tr>\n",
       "<tr>\n",
       "  <th>Time:</th>                        <td>08:14:05</td>             <th>  BIC                </th> <td>7273.669</td> \n",
       "</tr>\n",
       "<tr>\n",
       "  <th>Sample:</th>                          <td>0</td>                <th>  HQIC               </th> <td>7256.561</td> \n",
       "</tr>\n",
       "<tr>\n",
       "  <th></th>                              <td> - 1759</td>             <th>                     </th>     <td> </td>    \n",
       "</tr>\n",
       "<tr>\n",
       "  <th>Covariance Type:</th>                <td>opg</td>               <th>                     </th>     <td> </td>    \n",
       "</tr>\n",
       "</table>\n",
       "<table class=\"simpletable\">\n",
       "<tr>\n",
       "      <td></td>        <th>coef</th>     <th>std err</th>      <th>z</th>      <th>P>|z|</th>  <th>[0.025</th>    <th>0.975]</th>  \n",
       "</tr>\n",
       "<tr>\n",
       "  <th>ar.L1</th>    <td>    0.0332</td> <td>    0.016</td> <td>    2.034</td> <td> 0.042</td> <td>    0.001</td> <td>    0.065</td>\n",
       "</tr>\n",
       "<tr>\n",
       "  <th>ar.L2</th>    <td>   -0.0476</td> <td>    0.016</td> <td>   -2.956</td> <td> 0.003</td> <td>   -0.079</td> <td>   -0.016</td>\n",
       "</tr>\n",
       "<tr>\n",
       "  <th>ar.S.L66</th> <td>   -0.0791</td> <td>    0.022</td> <td>   -3.676</td> <td> 0.000</td> <td>   -0.121</td> <td>   -0.037</td>\n",
       "</tr>\n",
       "<tr>\n",
       "  <th>ma.S.L66</th> <td>   -0.9662</td> <td>    0.036</td> <td>  -26.776</td> <td> 0.000</td> <td>   -1.037</td> <td>   -0.896</td>\n",
       "</tr>\n",
       "<tr>\n",
       "  <th>sigma2</th>   <td>    3.7966</td> <td>    0.118</td> <td>   32.113</td> <td> 0.000</td> <td>    3.565</td> <td>    4.028</td>\n",
       "</tr>\n",
       "</table>\n",
       "<table class=\"simpletable\">\n",
       "<tr>\n",
       "  <th>Ljung-Box (L1) (Q):</th>     <td>0.00</td> <th>  Jarque-Bera (JB):  </th> <td>2313.43</td>\n",
       "</tr>\n",
       "<tr>\n",
       "  <th>Prob(Q):</th>                <td>0.95</td> <th>  Prob(JB):          </th>  <td>0.00</td>  \n",
       "</tr>\n",
       "<tr>\n",
       "  <th>Heteroskedasticity (H):</th> <td>3.54</td> <th>  Skew:              </th>  <td>-0.33</td> \n",
       "</tr>\n",
       "<tr>\n",
       "  <th>Prob(H) (two-sided):</th>    <td>0.00</td> <th>  Kurtosis:          </th>  <td>8.69</td>  \n",
       "</tr>\n",
       "</table><br/><br/>Warnings:<br/>[1] Covariance matrix calculated using the outer product of gradients (complex-step)."
      ],
      "text/plain": [
       "<class 'statsmodels.iolib.summary.Summary'>\n",
       "\"\"\"\n",
       "                                      SARIMAX Results                                       \n",
       "============================================================================================\n",
       "Dep. Variable:                                Close   No. Observations:                 1759\n",
       "Model:             SARIMAX(2, 1, 0)x(1, 1, [1], 66)   Log Likelihood               -3618.250\n",
       "Date:                              Wed, 17 May 2023   AIC                           7246.501\n",
       "Time:                                      08:14:05   BIC                           7273.669\n",
       "Sample:                                           0   HQIC                          7256.561\n",
       "                                             - 1759                                         \n",
       "Covariance Type:                                opg                                         \n",
       "==============================================================================\n",
       "                 coef    std err          z      P>|z|      [0.025      0.975]\n",
       "------------------------------------------------------------------------------\n",
       "ar.L1          0.0332      0.016      2.034      0.042       0.001       0.065\n",
       "ar.L2         -0.0476      0.016     -2.956      0.003      -0.079      -0.016\n",
       "ar.S.L66      -0.0791      0.022     -3.676      0.000      -0.121      -0.037\n",
       "ma.S.L66      -0.9662      0.036    -26.776      0.000      -1.037      -0.896\n",
       "sigma2         3.7966      0.118     32.113      0.000       3.565       4.028\n",
       "===================================================================================\n",
       "Ljung-Box (L1) (Q):                   0.00   Jarque-Bera (JB):              2313.43\n",
       "Prob(Q):                              0.95   Prob(JB):                         0.00\n",
       "Heteroskedasticity (H):               3.54   Skew:                            -0.33\n",
       "Prob(H) (two-sided):                  0.00   Kurtosis:                         8.69\n",
       "===================================================================================\n",
       "\n",
       "Warnings:\n",
       "[1] Covariance matrix calculated using the outer product of gradients (complex-step).\n",
       "\"\"\""
      ]
     },
     "execution_count": 63,
     "metadata": {},
     "output_type": "execute_result"
    }
   ],
   "source": [
    "model_sarima = sm.tsa.SARIMAX(train_set['Close'], order=(2,1,0), seasonal_order=(1,1,1,66))\n",
    "result_sarima = model_sarima.fit()\n",
    "result_sarima.summary()"
   ]
  },
  {
   "cell_type": "markdown",
   "id": "ee770900",
   "metadata": {},
   "source": [
    "#### We changed the normal order from (1,1,1) to (2,1,0) as the p-values for former were not under 0.05. We have kept the seasonal order as quarterly as we are getting the best RMSE value for the same."
   ]
  },
  {
   "cell_type": "code",
   "execution_count": 64,
   "id": "148fccd2",
   "metadata": {
    "scrolled": false
   },
   "outputs": [
    {
     "name": "stderr",
     "output_type": "stream",
     "text": [
      "C:\\Users\\Anup sharma\\anaconda\\lib\\site-packages\\statsmodels\\tsa\\base\\tsa_model.py:834: ValueWarning: No supported index is available. Prediction results will be given with an integer index beginning at `start`.\n",
      "  return get_prediction_index(\n"
     ]
    }
   ],
   "source": [
    "predict_sarima = result_sarima.predict(start=len(train_set['Close']), end=len(train_set['Close'])+len(test_set['Close'])-1)\n",
    "predict_sarima.index=test_set.index\n"
   ]
  },
  {
   "cell_type": "markdown",
   "id": "e5eec378",
   "metadata": {},
   "source": [
    "## Error Metrics"
   ]
  },
  {
   "cell_type": "code",
   "execution_count": 61,
   "id": "00a7b787",
   "metadata": {
    "scrolled": true
   },
   "outputs": [
    {
     "data": {
      "application/javascript": [
       "\n",
       "        if (window._pyforest_update_imports_cell) { window._pyforest_update_imports_cell('import pandas as pd\\nimport matplotlib.pyplot as plt\\nimport numpy as np'); }\n",
       "    "
      ],
      "text/plain": [
       "<IPython.core.display.Javascript object>"
      ]
     },
     "metadata": {},
     "output_type": "display_data"
    },
    {
     "data": {
      "application/javascript": [
       "\n",
       "        if (window._pyforest_update_imports_cell) { window._pyforest_update_imports_cell('import pandas as pd\\nimport matplotlib.pyplot as plt\\nimport numpy as np'); }\n",
       "    "
      ],
      "text/plain": [
       "<IPython.core.display.Javascript object>"
      ]
     },
     "metadata": {},
     "output_type": "display_data"
    }
   ],
   "source": [
    "rmse = np.sqrt(np.mean((predict_sarima - test_set['Close'].values)**2))"
   ]
  },
  {
   "cell_type": "code",
   "execution_count": 62,
   "id": "c5479499",
   "metadata": {},
   "outputs": [
    {
     "data": {
      "text/plain": [
       "49.24036598316486"
      ]
     },
     "execution_count": 62,
     "metadata": {},
     "output_type": "execute_result"
    }
   ],
   "source": [
    "rmse"
   ]
  },
  {
   "cell_type": "code",
   "execution_count": 63,
   "id": "6af5b7ad",
   "metadata": {},
   "outputs": [
    {
     "data": {
      "text/plain": [
       "Date\n",
       "2018-12-31    156.001538\n",
       "2019-01-02    156.027552\n",
       "2019-01-03    156.171891\n",
       "2019-01-04    156.096477\n",
       "2019-01-07    155.746434\n",
       "                 ...    \n",
       "2019-12-23    176.600549\n",
       "2019-12-24    177.009944\n",
       "2019-12-26    176.703370\n",
       "2019-12-27    176.771246\n",
       "2019-12-30    176.575868\n",
       "Name: predicted_mean, Length: 252, dtype: float64"
      ]
     },
     "execution_count": 63,
     "metadata": {},
     "output_type": "execute_result"
    }
   ],
   "source": [
    "predict_sarima"
   ]
  },
  {
   "cell_type": "code",
   "execution_count": 64,
   "id": "e171a432",
   "metadata": {},
   "outputs": [
    {
     "data": {
      "image/png": "[encoded data removed]",
      "text/plain": [
       "<Figure size 1200x500 with 1 Axes>"
      ]
     },
     "metadata": {},
     "output_type": "display_data"
    }
   ],
   "source": [
    "plt.figure(figsize=(12,5))\n",
    "plt.plot(train_set['Close'], label='Train')\n",
    "plt.plot(test_set['Close'], label='Test')\n",
    "plt.plot(predict_sarima, label='Predict_Sarima')\n",
    "plt.title(f'SARIMA Model (RMSE: {rmse:.2f})')\n",
    "plt.legend()\n",
    "plt.show()"
   ]
  },
  {
   "cell_type": "markdown",
   "id": "e7895b45",
   "metadata": {},
   "source": [
    "## Forecast for next 30 Days"
   ]
  },
  {
   "cell_type": "code",
   "execution_count": 65,
   "id": "6703aeb9",
   "metadata": {},
   "outputs": [
    {
     "data": {
      "application/javascript": [
       "\n",
       "        if (window._pyforest_update_imports_cell) { window._pyforest_update_imports_cell('import pandas as pd\\nimport matplotlib.pyplot as plt\\nimport numpy as np'); }\n",
       "    "
      ],
      "text/plain": [
       "<IPython.core.display.Javascript object>"
      ]
     },
     "metadata": {},
     "output_type": "display_data"
    }
   ],
   "source": [
    "future_dates = pd.date_range(start=test_set['Close'].index[-1], periods=31, freq='D')\n"
   ]
  },
  {
   "cell_type": "code",
   "execution_count": 66,
   "id": "e96b500c",
   "metadata": {},
   "outputs": [
    {
     "name": "stderr",
     "output_type": "stream",
     "text": [
      "C:\\Users\\Atharva\\anaconda3\\lib\\site-packages\\statsmodels\\tsa\\base\\tsa_model.py:834: ValueWarning: No supported index is available. Prediction results will be given with an integer index beginning at `start`.\n",
      "  return get_prediction_index(\n",
      "C:\\Users\\Atharva\\anaconda3\\lib\\site-packages\\statsmodels\\tsa\\statespace\\kalman_filter.py:2290: ValueWarning: Dynamic prediction specified to begin during out-of-sample forecasting period, and so has no effect.\n",
      "  warn('Dynamic prediction specified to begin during'\n"
     ]
    }
   ],
   "source": [
    "forecast_30 = result_sarima.predict(start=len(train_set['Close'])+len(test_set['Close']), end=len(train_set['Close'])+len(test_set['Close'])+30, dynamic=True)"
   ]
  },
  {
   "cell_type": "code",
   "execution_count": 67,
   "id": "c6fca37e",
   "metadata": {},
   "outputs": [
    {
     "data": {
      "application/javascript": [
       "\n",
       "        if (window._pyforest_update_imports_cell) { window._pyforest_update_imports_cell('import pandas as pd\\nimport matplotlib.pyplot as plt\\nimport numpy as np'); }\n",
       "    "
      ],
      "text/plain": [
       "<IPython.core.display.Javascript object>"
      ]
     },
     "metadata": {},
     "output_type": "display_data"
    }
   ],
   "source": [
    "future_dates = pd.date_range(start=test_set['Close'].index[-1], periods=31, freq='D')\n"
   ]
  },
  {
   "cell_type": "code",
   "execution_count": 68,
   "id": "9f5b08fe",
   "metadata": {},
   "outputs": [],
   "source": [
    "forecast_30.index = future_dates\n"
   ]
  },
  {
   "cell_type": "code",
   "execution_count": 69,
   "id": "977c42fe",
   "metadata": {},
   "outputs": [
    {
     "data": {
      "text/plain": [
       "2019-12-30    176.327544\n",
       "2019-12-31    176.833884\n",
       "2020-01-01    177.050349\n",
       "2020-01-02    176.584915\n",
       "2020-01-03    176.706252\n",
       "2020-01-04    176.564039\n",
       "2020-01-05    176.306494\n",
       "2020-01-06    176.117833\n",
       "2020-01-07    175.871271\n",
       "2020-01-08    176.295427\n",
       "2020-01-09    175.770855\n",
       "2020-01-10    176.038350\n",
       "2020-01-11    175.899786\n",
       "2020-01-12    175.794844\n",
       "2020-01-13    176.262209\n",
       "2020-01-14    176.250267\n",
       "2020-01-15    176.037284\n",
       "2020-01-16    176.374843\n",
       "2020-01-17    176.696213\n",
       "2020-01-18    176.380883\n",
       "2020-01-19    176.388915\n",
       "2020-01-20    176.525177\n",
       "2020-01-21    177.098567\n",
       "2020-01-22    176.800564\n",
       "2020-01-23    176.833897\n",
       "2020-01-24    176.663455\n",
       "2020-01-25    176.508328\n",
       "2020-01-26    177.218429\n",
       "2020-01-27    177.476354\n",
       "2020-01-28    177.566704\n",
       "2020-01-29    177.781045\n",
       "Freq: D, Name: predicted_mean, dtype: float64"
      ]
     },
     "execution_count": 69,
     "metadata": {},
     "output_type": "execute_result"
    }
   ],
   "source": [
    "forecast_30"
   ]
  },
  {
   "cell_type": "code",
   "execution_count": 70,
   "id": "cb1744ee",
   "metadata": {
    "scrolled": false
   },
   "outputs": [
    {
     "data": {
      "image/png": "[encoded data removed]",
      "text/plain": [
       "<Figure size 2000x1000 with 1 Axes>"
      ]
     },
     "metadata": {},
     "output_type": "display_data"
    }
   ],
   "source": [
    "# Plot the predicted values\n",
    "plt.figure(figsize=(20,10))\n",
    "plt.plot(train_set.index, train_set[\"Close\"], label='Train',color=\"black\")\n",
    "plt.plot(test_set.index, test_set[\"Close\"], label='Test',color=\"orange\")\n",
    "plt.plot(predict_sarima, label='Predict')\n",
    "\n",
    "plt.plot(forecast_30, label='Forecast',color=\"Green\")\n",
    "plt.legend()\n",
    "plt.show()"
   ]
  },
  {
   "cell_type": "markdown",
   "id": "4ac454e5",
   "metadata": {},
   "source": [
    "### End of the Project- Thank You!!"
   ]
  }
 ],
 "metadata": {
  "kernelspec": {
   "display_name": "Python 3 (ipykernel)",
   "language": "python",
   "name": "python3"
  },
  "language_info": {
   "codemirror_mode": {
    "name": "ipython",
    "version": 3
   },
   "file_extension": ".py",
   "mimetype": "text/x-python",
   "name": "python",
   "nbconvert_exporter": "python",
   "pygments_lexer": "ipython3",
   "version": "3.9.12"
  }
 },
 "nbformat": 4,
 "nbformat_minor": 5
}
